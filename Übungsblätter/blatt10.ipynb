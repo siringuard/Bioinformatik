{
 "cells": [
  {
   "cell_type": "markdown",
   "metadata": {},
   "source": [
    "# Algorithmen in der Bioinformatik – Übungsblatt 10\n",
    "## Abgabe: Freitag, 5.7., 10:30 Uhr\n",
    "\n",
    "Die Abgabe ist mit bis zu 3 Personen möglich und kann auf Deutsch oder Englisch geschrieben sein. Es muss nur eine Person eines Teams abgeben, in diesem Fall müssen die Namen der Teammitglieder hier in diesem Jupyter Notebook ganz oben genannt werden.\n",
    "\n",
    "Die praktischen Aufgaben sind mit Python3-Code zu lösen.\n",
    "\n",
    "Laden Sie das bearbeitete Jupyter Notebook im ILIAS hoch.\n",
    "\n",
    "**Hinweis:** Sie können eine Bilddatei in ihre Abgabe einbinden, indem Sie test.png durch den entsprechenden Dateinamen ersetzen:"
   ]
  },
  {
   "cell_type": "raw",
   "metadata": {},
   "source": [
    "from IPython.display import Image\n",
    "Image('test.png')"
   ]
  },
  {
   "cell_type": "code",
   "execution_count": null,
   "metadata": {},
   "outputs": [],
   "source": [
    "# simple test() function to check function returns vs. what the function was supposed to return.\n",
    "def test(got, expected):\n",
    "    if got == expected:\n",
    "        prefix = ' OK '\n",
    "    else:\n",
    "        prefix = '  X '\n",
    "    print('%s got: %s expected: %s' % (prefix, repr(got), repr(expected)))"
   ]
  },
  {
   "cell_type": "markdown",
   "metadata": {},
   "source": [
    "## Aufgabe 10.1 (9 Punkte)\n",
    "\n",
    "Geben Sie einen Baum an, der hierarchisches Clustering mit durchschnittlichem Cluster-Abstand für die angegebene Distanzmatrix repräsentiert. Zeigen Sie alle Zwischenschritte, indem Sie die ausgerechneten Matrizen angeben. Sie können auf 2 Nachkommastellen runden. Falls Sie eine Wahlmöglichkeit haben, wählen Sie ein beliebiges Paar.\n",
    "\n",
    "**Hinweis:** Der durchschnittliche Cluster-Abstand von beispielsweise $g_0$ und $g_1$ zu $g_2$ ist $10.6$.\n",
    "\n",
    "\\begin{array}{r|rrrrrrrrrr}\n",
    "    & g_0 & g_1 & g_2 & g_3 & g_4 & g_5 & g_6 & g_7 & g_8 & g_9 \\\\ \\hline\n",
    "g_0 & 0.0 & 8.1 & 9.2 & 7.7 & 9.3 & 2.3 & 5.1 &10.2 & 6.1 & 7.0  \\\\\n",
    "g_1 & 8.1 & 0.0 &12.0 & 0.9 &12.0 & 9.5 &10.1 &12.8 & 2.0 & 1.0  \\\\\n",
    "g_2 & 9.2 &12.0 & 0.0 &11.2 & 0.7 &11.1 & 8.1 & 1.1 &10.5 &11.5  \\\\\n",
    "g_3 & 7.7 & 0.9 &11.2 & 0.0 &11.2 & 9.2 & 9.5 &12.0 & 1.6 & 1.1  \\\\\n",
    "g_4 & 9.3 &12.0 & 0.7 &11.2 & 0.0 &11.2 & 8.5 & 1.0 &10.6 &11.6  \\\\\n",
    "g_5 & 2.3 & 9.5 &11.1 & 9.2 &11.2 & 0.0 & 5.6 &12.1 & 7.7 & 8.5  \\\\\n",
    "g_6 & 5.1 &10.1 & 8.1 & 9.5 & 8.5 & 5.6 & 0.0 & 9.1 & 8.3 & 9.3  \\\\\n",
    "g_7 &10.2 &12.8 & 1.1 &12.0 & 1.0 &12.1 & 9.1 & 0.0 &11.4 &12.4  \\\\\n",
    "g_8 & 6.1 & 2.0 &10.5 & 1.6 &10.6 & 7.7 & 8.3 &11.4 & 0.0 & 1.1  \\\\\n",
    "g_9 & 7.0 & 1.0 &11.5 & 1.1 &11.6 & 8.5 & 9.3 &12.4 & 1.1 & 0.0\n",
    "\\end{array}"
   ]
  },
  {
   "cell_type": "markdown",
   "metadata": {},
   "source": [
    "## Aufgabe 10.2 (11 Punkte, 7 + 2 + 2)\n",
    "\n",
    "(a) Implementieren Sie den Lloyd-Algorithmus für $n$-dimensionales $k$-means-Clustering für $n = 3$. (Ihr Programm darf auch für andere $n$ funktionieren.) Ihr Programm soll die Anzahl an Iterationen ausgeben und 2 Rückgabewerte haben: die Koordinaten der Clusterzentren und die zugewiesenen Datenpunkte für jedes Clusterzentrum.\n",
    "\n",
    "Eine mögliche Rückgabe könnte für $n = 2$ und $k = 3$ z. B. so aussehen:\n",
    "\n",
    "Anzahl an Iterationen:<br>\n",
    "3\n",
    "\n",
    "Clusterzentren:<br>\n",
    "[[0.753 0.883]<br>\n",
    " [0.114 0.489]<br>\n",
    " [0.505 0.224]]\n",
    " \n",
    "Zugewiesene Datenpunkte je Clusterzentrum:<br>\n",
    "{0: [[0.759 0.823], [0.693 0.903], [0.758 0.778]],<br>\n",
    "1: [[0.033 0.560], [0.131 0.428], [0.176 0.463]],<br>\n",
    "2: [[0.586 0.224], [0.498 0.402], [0.510 0.198]]}<br>"
   ]
  },
  {
   "cell_type": "code",
   "execution_count": null,
   "metadata": {},
   "outputs": [],
   "source": [
    "# could be useful\n",
    "def k_means_one_iteration(centers, datapoints, k):\n",
    "    pass\n",
    "\n",
    "# main method\n",
    "def k_means_lloyd(datapoints, k):\n",
    "    pass"
   ]
  },
  {
   "cell_type": "markdown",
   "metadata": {},
   "source": [
    "(b) Betrachten Sie die Datei \"dataset.tsv\", die sich im selben Ordner wie dieses Jupyter Notebook befindet. In dieser Datei repräsentiert eine Zeile einen Datenpunkt, wobei die einzelnen Koordinaten tabsepariert sind.\n",
    "\n",
    "Wenden Sie den Lloyd-Algorithmus aus (a) mit $k = 4$ auf den Datensatz an. Visualisieren Sie Ihre Lösung, indem Sie die Datenpunkte und Clusterzentren in geeigneter Weise plotten. Wie beurteilen Sie Ihr Clustering auf diesem Datensatz?\n",
    "\n",
    "**Hinweis:** Die Funktion `add_subplot(111, projection='3d')` aus der Library `mpl_toolkits.mplot3d.Axes3D` könnte nützlich sein."
   ]
  },
  {
   "cell_type": "code",
   "execution_count": null,
   "metadata": {},
   "outputs": [],
   "source": [
    "import matplotlib.pyplot as plt\n",
    "from mpl_toolkits.mplot3d import Axes3D\n",
    "%matplotlib notebook\n",
    "\n",
    "def visualize_dataset(dataset, k):\n",
    "    pass"
   ]
  },
  {
   "cell_type": "code",
   "execution_count": null,
   "metadata": {},
   "outputs": [],
   "source": [
    "visualize_dataset('dataset.tsv', 4)"
   ]
  },
  {
   "cell_type": "markdown",
   "metadata": {},
   "source": [
    "(c) Betrachten Sie die Datei \"mysterious_dataset.tsv\", die sich im selben Ordner wie dieses Jupyter Notebook befindet. In dieser Datei repräsentiert eine Zeile einen Datenpunkt, wobei die einzelnen Koordinaten tabsepariert sind.\n",
    "\n",
    "Wenden Sie den Lloyd-Algorithmus aus (a) mit $k = 3$ auf den Datensatz an. Visualisieren Sie Ihre Lösung, indem Sie die Datenpunkte und Clusterzentren in geeigneter Weise plotten. Wie beurteilen Sie Ihr Clustering auf diesem Datensatz?\n",
    "\n",
    "**Hinweis:** Die Funktion `add_subplot(111, projection='3d')` aus der Library `mpl_toolkits.mplot3d.Axes3D` könnte nützlich sein."
   ]
  },
  {
   "cell_type": "code",
   "execution_count": null,
   "metadata": {},
   "outputs": [],
   "source": [
    "import matplotlib.pyplot as plt\n",
    "from mpl_toolkits.mplot3d import Axes3D\n",
    "%matplotlib notebook\n",
    "\n",
    "def visualize_dataset(dataset, k):\n",
    "    pass"
   ]
  },
  {
   "cell_type": "code",
   "execution_count": null,
   "metadata": {
    "scrolled": false
   },
   "outputs": [],
   "source": [
    "visualize_dataset('mysterious_dataset.tsv', 3)"
   ]
  }
 ],
 "metadata": {
  "kernelspec": {
   "display_name": "Python 3 (ipykernel)",
   "language": "python",
   "name": "python3"
  },
  "language_info": {
   "codemirror_mode": {
    "name": "ipython",
    "version": 3
   },
   "file_extension": ".py",
   "mimetype": "text/x-python",
   "name": "python",
   "nbconvert_exporter": "python",
   "pygments_lexer": "ipython3",
   "version": "3.11.5"
  }
 },
 "nbformat": 4,
 "nbformat_minor": 4
}
