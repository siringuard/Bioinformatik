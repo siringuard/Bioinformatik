{
 "cells": [
  {
   "cell_type": "markdown",
   "metadata": {},
   "source": [
    "# Algorithmen in der Bioinformatik – Übungsblatt 2\n",
    "## Abgabe: Freitag, 26.4., 10:30 Uhr\n",
    "\n",
    "Die Abgabe ist mit bis zu 3 Personen möglich und kann auf Deutsch oder Englisch geschrieben sein. Es muss nur eine Person eines Teams abgeben, in diesem Fall müssen die Namen der Teammitglieder hier in diesem Jupyter Notebook ganz oben genannt werden.\n",
    "\n",
    "Die praktischen Aufgaben sind mit Python3-Code zu lösen.\n",
    "\n",
    "Laden Sie das bearbeitete Jupyter Notebook im ILIAS hoch.\n",
    "\n",
    "**Hinweis:** Sie können eine Bilddatei in ihre Abgabe einbinden, indem Sie test.png durch den entsprechenden Dateinamen ersetzen:"
   ]
  },
  {
   "cell_type": "code",
   "execution_count": null,
   "metadata": {},
   "outputs": [],
   "source": [
    "from IPython.display import Image\n",
    "Image('test.png')"
   ]
  },
  {
   "cell_type": "markdown",
   "metadata": {},
   "source": [
    "## Testfunktion"
   ]
  },
  {
   "cell_type": "code",
   "execution_count": null,
   "metadata": {},
   "outputs": [],
   "source": [
    "# simple test() function to check function returns vs. what the function was supposed to return.\n",
    "def test(got, expected):\n",
    "    if got == expected:\n",
    "        prefix = ' OK '\n",
    "    else:\n",
    "        prefix = '  X '\n",
    "    print('%s got: %s expected: %s' % (prefix, repr(got), repr(expected)))"
   ]
  },
  {
   "cell_type": "markdown",
   "metadata": {},
   "source": [
    "## Aufgabe 2.1 (6 Punkte)\n",
    "\n",
    "Gegeben sei die folgende Matrix $\\mathit{DNA}$:\n",
    "\n",
    "\\begin{array}{c c c}\n",
    "    T & T & T \\\\\n",
    "    T & C & T \\\\\n",
    "    T & C & T\n",
    "\\end{array}\n",
    "\n",
    "Wenden Sie $\\mathit{BranchAndBoundMedianStringSearch}$ aus Foliensatz 2 (Folie 41/42) an, um einen Median-String mit $l = 2$ zu finden. Der Lösungsraum soll mit *Branch & Bound* durchsucht werden, wobei bei der Wurzel begonnen und von links nach rechts vorgegangen wird.\n",
    "\n",
    "Geben Sie dazu den Baum wie in Foliensatz 2 (Folie 31/42) an, wobei Sie an jeden betrachteten Knoten den entsprechenden $\\mathit{TotalDistance}$-Wert schreiben sollen. Markieren Sie (etwa durch Einkreisen) diejenigen $\\mathit{TotalDistance}$-Werte, die zeitweise eine $\\mathit{bestDistance}$ sind (außer $\\infty$).\n",
    "\n",
    "Geben Sie zum Schluss den durch den Algorithmus gefundenen Median-String aus.\n",
    "\n",
    "**Hinweis:** Für diese Aufgabe muss nichts implementiert werden. Sie können die Lösung z. B. handschriftlich oder mit Hilfe eines Zeichenprogramms lösen."
   ]
  },
  {
   "cell_type": "markdown",
   "metadata": {},
   "source": [
    "## Aufgabe 2.2 (4 Punkte, 1 + 1 + 1 + 1)\n",
    "\n",
    "Gegeben sei folgender Suchbaum, der ein Maximierungsproblem beschreibt:"
   ]
  },
  {
   "cell_type": "code",
   "execution_count": 1,
   "metadata": {},
   "outputs": [
    {
     "data": {
      "image/png": "[encoded data removed]",
      "text/plain": [
       "<IPython.core.display.Image object>"
      ]
     },
     "execution_count": 1,
     "metadata": {},
     "output_type": "execute_result"
    }
   ],
   "source": [
    "from IPython.display import Image\n",
    "Image('2_2.png')"
   ]
  },
  {
   "cell_type": "markdown",
   "metadata": {},
   "source": [
    "An jedem Knoten ist eine lokale obere Schranke angegeben, die durch Anwendung einer Heuristik ermittelt wurde. An den Blättern entspricht die lokale obere Schranke dem Wert der tatsächlichen Lösung. Der Lösungsraum soll mit *Branch & Bound* durchsucht werden, wobei bei der Wurzel begonnen und von links nach rechts vorgegangen wird.\n",
    "\n",
    "An jedem Knoten ist eine lokale obere Schranke angegeben, die durch Anwendung einer Heuristik ermittelt wurde, wie z. B. die optimistische *TotalDistance* auf einem Motiv-Präfix (vgl. Foliensatz 2, Folie 41/42). An den Blättern entspricht die lokale obere Schranke dem Wert der tatsächlichen Lösung. Der Lösungsraum soll mit *Branch & Bound* durchsucht werden, wobei bei der Wurzel begonnen wird und der Baum in *Pre-Order* durchlaufen wird, d. h., man betrachtet immer einen Knoten und anschließend nacheinander seine Kindknoten wie bei der *NextVertex*-Funktion (vgl. Foliensatz 2, Folie 35/42)."
   ]
  },
  {
   "cell_type": "markdown",
   "metadata": {},
   "source": [
    "(a) Braucht man in diesem Fall für *Branch & Bound* eine globale untere Schranke oder doch eine globale obere Schranke? Wozu?"
   ]
  },
  {
   "cell_type": "markdown",
   "metadata": {},
   "source": [
    "(b) Welchen Wert besitzt diese Schranke zu Beginn der Suche? Warum?"
   ]
  },
  {
   "cell_type": "markdown",
   "metadata": {},
   "source": [
    "(c) Wann ändert sich dieser Wert zum ersten Mal? Welcher ist der neue Wert?"
   ]
  },
  {
   "cell_type": "markdown",
   "metadata": {},
   "source": [
    "(d) Welche Knoten des Suchbaumes müssen nicht betrachtet werden? Warum?"
   ]
  },
  {
   "cell_type": "markdown",
   "metadata": {},
   "source": [
    "## Aufgabe 2.3 (10 Punkte, 4 + 2 + 4)\n",
    "\n",
    "Gegeben seien unendlich viele Münzen mit je einem Wert aus einer Menge $M$. Ein gegebener Betrag $B$ soll nun durch möglichst wenig Münzen repräsentiert werden. Dazu wird folgender Algorithmus verwendet: Man wählt den größten Münzwert, der kleiner als der Betrag oder genauso groß ist, und subtrahiert diesen vom Betrag. Dies wiederholt man, bis der Betrag $0$ ist. Dann werden die benötigten Münzen ausgegeben."
   ]
  },
  {
   "cell_type": "markdown",
   "metadata": {},
   "source": [
    "(a) Beweisen Sie folgende Aussage mittels vollständiger Induktion: Der Algorithmus liefert mit $M = \\{1, 5, 10\\}$ immer eine optimale Lösung.\n",
    "\n",
    "**Hinweis:** Betrachten Sie die 3 Fälle $B < 5$, $5 \\leq B < 10$ und $10 \\leq B$."
   ]
  },
  {
   "cell_type": "markdown",
   "metadata": {},
   "source": [
    "(b) Beweisen oder widerlegen Sie folgende Aussage: Der Algorithmus liefert mit 3 beliebigen Münzwerten immer eine optimale Lösung, solange einer der Münzwerte $1$ ist."
   ]
  },
  {
   "cell_type": "markdown",
   "metadata": {},
   "source": [
    "(c) Implementieren Sie diesen Algorithmus."
   ]
  },
  {
   "cell_type": "code",
   "execution_count": null,
   "metadata": {},
   "outputs": [],
   "source": [
    "def greedy_coin_change(M, B):\n",
    "    pass"
   ]
  },
  {
   "cell_type": "code",
   "execution_count": null,
   "metadata": {},
   "outputs": [],
   "source": [
    "test(greedy_coin_change([10, 5, 1], 0), [])\n",
    "test(greedy_coin_change([1, 5, 10], 8), [5, 1, 1, 1])\n",
    "test(greedy_coin_change([5, 1, 10], 27), [10, 10, 5, 1, 1])"
   ]
  }
 ],
 "metadata": {
  "kernelspec": {
   "display_name": "Python 3 (ipykernel)",
   "language": "python",
   "name": "python3"
  },
  "language_info": {
   "codemirror_mode": {
    "name": "ipython",
    "version": 3
   },
   "file_extension": ".py",
   "mimetype": "text/x-python",
   "name": "python",
   "nbconvert_exporter": "python",
   "pygments_lexer": "ipython3",
   "version": "3.11.5"
  },
  "widgets": {
   "application/vnd.jupyter.widget-state+json": {
    "state": {},
    "version_major": 2,
    "version_minor": 0
   }
  }
 },
 "nbformat": 4,
 "nbformat_minor": 4
}
