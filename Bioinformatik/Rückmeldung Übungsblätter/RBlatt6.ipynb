{
 "cells": [
  {
   "cell_type": "markdown",
   "metadata": {},
   "source": [
    "### Raphael Kaya ; Omar Chaouch"
   ]
  },
  {
   "cell_type": "markdown",
   "metadata": {},
   "source": [
    "# Algorithmen in der Bioinformatik – Übungsblatt 6\n",
    "## Abgabe: Freitag, 7.6., 10:30 Uhr\n",
    "\n",
    "Die Abgabe ist mit bis zu 3 Personen möglich und kann auf Deutsch oder Englisch geschrieben sein. Es muss nur eine Person eines Teams abgeben, in diesem Fall müssen die Namen der Teammitglieder hier in diesem Jupyter Notebook ganz oben genannt werden.\n",
    "\n",
    "Die praktischen Aufgaben sind mit Python3-Code zu lösen.\n",
    "\n",
    "Laden Sie das bearbeitete Jupyter Notebook im ILIAS hoch.\n",
    "\n",
    "**Hinweis:** Sie können eine Bilddatei in ihre Abgabe einbinden, indem Sie test.png durch den entsprechenden Dateinamen ersetzen:"
   ]
  },
  {
   "cell_type": "code",
   "execution_count": null,
   "metadata": {},
   "outputs": [],
   "source": []
  },
  {
   "cell_type": "code",
   "execution_count": null,
   "metadata": {},
   "outputs": [],
   "source": [
    "from IPython.display import Image\n",
    "Image('test.png')"
   ]
  },
  {
   "cell_type": "code",
   "execution_count": null,
   "metadata": {},
   "outputs": [],
   "source": [
    "# simple test() function to check function returns vs. what the function was supposed to return.\n",
    "def test(got, expected):\n",
    "    if got == expected:\n",
    "        prefix = ' OK '\n",
    "    else:\n",
    "        prefix = '  X '\n",
    "    print('%s got: %s expected: %s' % (prefix, repr(got), repr(expected)))"
   ]
  },
  {
   "cell_type": "code",
   "execution_count": null,
   "metadata": {},
   "outputs": [],
   "source": [
    "# Musterlösung für Needleman-Wunsch-Implementierung\n",
    "def needleman_wunsch(v, w, match_score, mismatch_score, indel_score):\n",
    "    m = len(v)\n",
    "    n = len(w)\n",
    "    d = [[0 for i in range(n + 1)] for _ in range(m + 1)]\n",
    "    bt = [[None for i in range(n + 1)] for _ in range(m + 1)]\n",
    "    \n",
    "    # Rand initialisieren\n",
    "    for i in range(1, m + 1):\n",
    "        d[i][0] = indel_score * i\n",
    "        bt[i][0] = '↑'\n",
    "    for j in range(1, n + 1):\n",
    "        d[0][j] = indel_score * j\n",
    "        bt[0][j] = '←'\n",
    "        \n",
    "    # Rekursion\n",
    "    for i in range(1, m + 1):\n",
    "        for j in range(1, n + 1):\n",
    "            pred = []\n",
    "            pred.append((d[i - 1][j - 1] + match_score if v[i - 1] == w[j - 1] else mismatch_score, '↖'))\n",
    "            pred.append((d[i][j - 1] + indel_score, '←'))\n",
    "            pred.append((d[i - 1][j] + indel_score, '↑'))\n",
    "            pred.sort(key=lambda x: -x[0]) # sortiere absteigend nach Score\n",
    "            d[i][j] = pred[0][0]\n",
    "            bt[i][j] = pred[0][1]\n",
    "            \n",
    "    # Backtracking (konstruiere Alignments von hinten nach vorne)\n",
    "    i = m\n",
    "    j = n\n",
    "    al = [\"\", \"\"]\n",
    "    while i > 0 or j > 0:\n",
    "        if bt[i][j] == '↖':\n",
    "            al[0] += v[i - 1]\n",
    "            al[1] += w[j - 1]\n",
    "            i -= 1\n",
    "            j -= 1\n",
    "        elif bt[i][j] == '↑':\n",
    "            al[0] += v[i - 1]\n",
    "            al[1] += '-'\n",
    "            i -= 1\n",
    "        else: # bt[i][j] == '←':\n",
    "            al[0] += '-'\n",
    "            al[1] += w[j - 1]\n",
    "            j -= 1\n",
    "    \n",
    "    # drehe Alignments um\n",
    "    al[0] = al[0][::-1]\n",
    "    al[1] = al[1][::-1]\n",
    "    \n",
    "    return d[m][n], al"
   ]
  },
  {
   "cell_type": "markdown",
   "metadata": {},
   "source": [
    "## Aufgabe 6.1 (5/5 Punkte)\n",
    "\n",
    "Implementieren Sie den Smith-Waterman-Algorithmus für lokales Alignment. Sie können dazu die obige Musterlösung für die Needleman-Wunsch-Implementierung vom letzten Blatt als Vorlage benutzen und diese erweitern, aber auch komplett eigenen Code schreiben."
   ]
  },
  {
   "cell_type": "code",
   "execution_count": 11,
   "metadata": {},
   "outputs": [
    {
     "name": "stdout",
     "output_type": "stream",
     "text": [
      " OK  got: 2 expected: 2\n",
      " OK  got: 4 expected: 4\n",
      " OK  got: 4 expected: 4\n",
      " OK  got: 4 expected: 4\n",
      "True\n"
     ]
    }
   ],
   "source": [
    "def smith_waterman(v, w, match_score, mismatch_score, indel_score):\n",
    "\n",
    "    m = len(v)\n",
    "    n = len(w)\n",
    "    d = [[0 for i in range(n + 1)] for _ in range(m + 1)]\n",
    "    bt = [[None for i in range(n + 1)] for _ in range(m + 1)]\n",
    "    \n",
    "    max_value = 0\n",
    "    max_position = (0, 0)\n",
    "    \n",
    "    # Rekursion (Änderung: Beginn erst ab einem Match & keine negative Werte)\n",
    "    for i in range(1, m + 1):\n",
    "        for j in range(1, n + 1):\n",
    "            if v[i - 1] == w[j - 1]:\n",
    "                match_mismatch = match_score\n",
    "            else:\n",
    "                match_mismatch = mismatch_score\n",
    "            \n",
    "            score_diagonal = d[i - 1][j - 1] + match_mismatch\n",
    "            score_up = d[i - 1][j] + indel_score\n",
    "            score_left = d[i][j - 1] + indel_score\n",
    "            d[i][j] = max(0, score_diagonal, score_up, score_left)\n",
    "            \n",
    "            if d[i][j] == score_diagonal:\n",
    "                bt[i][j] = '↖'\n",
    "            elif d[i][j] == score_up:\n",
    "                bt[i][j] = '↑'\n",
    "            elif d[i][j] == score_left:\n",
    "                bt[i][j] = '←'\n",
    "            else:\n",
    "                bt[i][j] = None\n",
    "\n",
    "            # Änderung: Max-Wert suchen\n",
    "            if d[i][j] > max_value:\n",
    "                max_value = d[i][j]\n",
    "                max_position = (i, j)\n",
    "\n",
    "    # Backtracking (Änderung: Backtracking beginnend vom größten Wert)\n",
    "    i, j = max_position\n",
    "    al = [\"\", \"\"]\n",
    "    while d[i][j] > 0:\n",
    "        if bt[i][j] == '↖':\n",
    "            al[0] += v[i - 1]\n",
    "            al[1] += w[j - 1]\n",
    "            i -= 1\n",
    "            j -= 1\n",
    "        elif bt[i][j] == '↑':\n",
    "            al[0] += v[i - 1]\n",
    "            al[1] += '-'\n",
    "            i -= 1\n",
    "        elif bt[i][j] == '←':\n",
    "            al[0] += '-'\n",
    "            al[1] += w[j - 1]\n",
    "            j -= 1\n",
    "\n",
    "    al[0] = al[0][::-1]\n",
    "    al[1] = al[1][::-1]\n",
    "    \n",
    "    return max_value, al\n",
    "\n",
    "# simple test() function to check function returns vs. what the function was supposed to return.\n",
    "def test(got, expected):\n",
    "    if got == expected:\n",
    "        prefix = ' OK '\n",
    "    else:\n",
    "        prefix = '  X '\n",
    "    print('%s got: %s expected: %s' % (prefix, repr(got), repr(expected)))\n",
    "    \n",
    "test(smith_waterman('AATTAA', 'AAGGAA', 1, -1, -1)[0], 2)\n",
    "test(smith_waterman('ATACTGG', 'TGACTGAG', 1, -1, -2)[0], 4)\n",
    "test(smith_waterman('ACTGG', 'TGACTGAG', 1, -1, -2)[0], 4)\n",
    "test(smith_waterman('ATACTGG', 'TGACTG', 1, -1, -2)[0], 4)\n",
    "\n",
    "print(smith_waterman('AATTAA', 'AAGGAAC', 1, -1, -1)[1] in [['AA', 'AA'], ['AATTAA', 'AAGGAA']])"
   ]
  },
  {
   "cell_type": "markdown",
   "metadata": {},
   "source": [
    "## Aufgabe 6.2 (7,5/11 Punkte, 1/3 + 1/2 + 5,5/6)\n",
    "\n",
    "In der Vorlesung wurde der Needleman-Wunsch-Algorithmus erweitert, sodass auch affine Gap-Kosten modelliert werden können. Dazu wurden neben der DP-Matrix $s$ zusätzlich die beiden Matrizen $\\stackrel{\\rightarrow}{s}$ und $\\stackrel{\\downarrow}{s}$ verwendet."
   ]
  },
  {
   "cell_type": "markdown",
   "metadata": {},
   "source": [
    "(a) Beschreiben Sie, wie jeweils die erste Zeile und erste Spalte der drei **DP-Matrizen** für den Needleman-Wunsch-Algorithmus mit affinen Gap-Kosten initialisiert werden müssen. Begründen Sie, warum die Initialisierung auf diese Weise notwendig ist. Sie können davon ausgehen, dass die Gap-Open-Kosten $\\sigma$ immer mindestens so groß wie die Gap-Extend-Kosten $\\varepsilon$ sind."
   ]
  },
  {
   "cell_type": "markdown",
   "metadata": {},
   "source": [
    "(b) Beschreiben Sie, wie jeweils die erste Zeile und erste Spalte der drei **Backtracking-Matrizen** für den Needleman-Wunsch-Algorithmus mit affinen Gap-Kosten initialisiert werden müssen. Begründen Sie, warum die Initialisierung auf diese Weise notwendig ist. Sie können davon ausgehen, dass die Gap-Open-Kosten $\\sigma$ immer mindestens so groß wie die Gap-Extend-Kosten $\\varepsilon$ sind."
   ]
  },
  {
   "cell_type": "markdown",
   "metadata": {},
   "source": [
    "--------"
   ]
  },
  {
   "cell_type": "markdown",
   "metadata": {},
   "source": [
    "### Antwort \n",
    "\n",
    "### a)\n",
    "\n",
    "Die DP-Matrix s wird wie gewohnt mit 0 initialisiert. In der ersten Zeile und der ersten Spalte wird keine Bewertung vorgenommen, daher bleiben diese Zellen bei 0. Dies stellt sicher, dass das Alignment ohne zusätzliche Strafen beginnen kann.\n",
    "\n",
    "Die Matrix $\\stackrel{\\rightarrow}{s}$ wir in der ersten Zelle / im ersten Element mit Gap-Open-Kosten $\\sigma$ initialisiert. Jedes weitere Element wird dann um die Gap-Extend-Kosten $\\varepsilon$ erweitert. Das liegt daran, dass die $\\stackrel{\\rightarrow}{s}$ Matrix für die Rechtsbewegung, also Lücken nach rechts gedacht ist. Damit müssen die Kosten beim \"nach rechts\" gehen immer nur um $\\varepsilon$ erweitert werden. In der Spalte dagegen, hat jedes Element die Gap-Open-Kosten $\\sigma$, da es in dieser Matrix keine Bewegung nach unten gibt, nur nach rechts. Daher müsste immer eine neue Lücke aufgemacht werden, weshalb wir die Gap-Open-Kosten $\\sigma$ zur Initialisierung jedes Elements nehmen.\n",
    "\n",
    "Die Matrix $\\stackrel{\\downarrow}{s}$ wird wie die $\\stackrel{\\rightarrow}{s}$ wird genau umgekehrt zur $\\stackrel{\\rightarrow}{s}$ Matrix intiailisiert. Das erste Element der Spalte wird mit den Gap-Open-Kosten $\\sigma$ initialisert. Jedes weitere Element in der Spalte wird um die Gap-Extend-Kosten $\\varepsilon$ erweitert. In der Zeile wird jedes Element mit Gap-Open-Kosten $\\sigma$ initialisiert, da es in dieser Matrix keine Rechtsbewegung gibt. \n",
    "\n",
    "Damit haben wir die Kosten für die Eröffnung einer Lücke und die Erweiterung der Lücke richtig miteinbezogen und können die Scoring Matrixen richtig initialisieren."
   ]
  },
  {
   "cell_type": "markdown",
   "metadata": {},
   "source": [
    "**Feedback**\n",
    "- bei s wird, bis auf s0,0 = 0, die erste Spalte wie bei s down und die erste Zeile wie bei s right initialisiert\n",
    "- die erste Spalte der waagerechten Gaps und die erste Zeile der senkrechten Gaps muss mit -unendlich initialisiert werden, da von dort aus keine waagerechte/senkrechte Gap starten kann"
   ]
  },
  {
   "cell_type": "markdown",
   "metadata": {},
   "source": [
    "### b)\n",
    "\n",
    "\n",
    "Matrix s: Die Zeile besteht nur aus rechtsbewegungen. Daher wird hier der Wert aus der $\\stackrel{\\rightarrow}{s}$ Matrix genommen, um das Backtracking zu initialisieren. Damit setzt sich ein Element immer aus dem Element in der $\\stackrel{\\rightarrow}{s}$ Matrix zusammen. Bei den Spalten geschieht genau dasselbe, nur wird hier das Element immer mit dem Wert aus der $\\stackrel{\\downarrow}{s}$ Zelle genommen. Der Wert in i+1,j ist damit derselbe, wie in der Matrix $\\stackrel{\\rightarrow}{s}$, an der Stelle i+1,j. Und der Wert an der Stelle i,j+1 in der s Matrix ist damit derselbe, wie in der $\\stackrel{\\downarrow}{s}$ Matrix an der Stelle, i,j+1. In der Spalte und Zeile gibt es demnach keine Pfeile, da in der s Matrix, Pfeile nur diagonal zeigen können.\n",
    "\n",
    "Matrix $\\stackrel{\\downarrow}{s}$: Hier erfolgt das Backtracking eines Elemente immer aus dem Wert des Vorgängers plus der Lücke-Erweiterungs-Strafe zusammen. Demnach zeigen die Pfeile nur nach links. In der Spalte werden die Werte der Elemente immer aus dem Wert des Vorgänger plus den Kosten für die Eröffnung einer Lücke initialisiert. Grund ist, dass hier keine Bewegung nach unten erfolgen kann, weshalb in einer anderen Matrix die Bewegung stattfinden muss und um auf dieser Matrix landen zu können, eine neue Lücke eröffnet werden muss. Hier gibt es auch keinen \"Pfeil\", der auf den Vorgänger zeigt.\n",
    "\n",
    "Matrix $\\stackrel{\\downarrow}{s}$: Die Elemente in der Spalte haben als Backtracking Pfeil immer einen Pfeil nach oben. Demnach setzt sich der Wert eines Elements immer aus dem Wert des Vorgängers plus der Lücke-Erweiterungsstrafe zusammen. In der Zeile werden die Elemente aus dem Wert des Vorgängers plus den Kosten für die Eröffnung einer Lücke zusammengesetzt. Denn hier gibt es keine Pfeile nach links, weshalb die Bewegung in einer anderen Matrix zustande gekommen sein muss und um auf diese Matrix zu gelangen, muss eine neue Lücke eröffnet werden. \n"
   ]
  },
  {
   "cell_type": "markdown",
   "metadata": {},
   "source": [
    "**Feedback**\n",
    "\n",
    "$b$: In der Hauptmatrix sind alle Felder Gap-Closings, d. h., man kommt immer aus einer der beiden anderen Matrizen. Zur Notation: Doppelpfeile ($⇈$ und $⇇$) geben Gap-Openings an, normale Pfeile ($↑$ und $←$) sind Gap-Extensions, Pfeile mit einem Balken dahinter ($⤒$ und $⇤$) sind Gap-Closings. Die Notation kann je nach Lösung natürlich abweichen, solange klar ist, was sie bedeutet.\n",
    "\n",
    "- $b_{i, 0} = ⤒ \\qquad$  für $i = 1, \\ldots, m$\n",
    "- $b_{0, j} = ⇤ \\qquad$  für $j = 1, \\ldots, n$\n",
    "\n",
    "$\\stackrel{\\downarrow}{b}$ und $\\stackrel{\\rightarrow}{b}$: Gültige Randfelder sind Gap-Extensions, nur die ersten Felder sind Gap-Openings.\n",
    "\n",
    "- $\\stackrel{\\downarrow}{b}_{1, 0} = ⇈$ (Gap-Open nach oben)\n",
    "- $\\stackrel{\\rightarrow}{b}_{0, 1} = ⇇$ (Gap-Open nach links)\n",
    "- $\\stackrel{\\downarrow}{b}_{i, 0} = ↑ \\qquad$ für $i = 2, \\ldots, m$\n",
    "- $\\stackrel{\\rightarrow}{b}_{0, j} = ← \\qquad$ für $j = 2, \\ldots, n$\n",
    "\n",
    "Die übrigen Randfelder $\\stackrel{\\downarrow}{b}_{0, j}$ und $\\stackrel{\\rightarrow}{b}_{i, 0}$ müssen nicht initialisiert werden, da sie nicht erreicht werden können."
   ]
  },
  {
   "cell_type": "markdown",
   "metadata": {},
   "source": [
    "-----"
   ]
  },
  {
   "cell_type": "markdown",
   "metadata": {},
   "source": [
    "(c) Implementieren Sie einen Algorithmus für globales Alignment mit affinen Gaps. Sie können dazu die obige Musterlösung für die Needleman-Wunsch-Implementierung vom letzten Blatt als Vorlage benutzen und diese erweitern, aber auch komplett eigenen Code schreiben.\n",
    "\n",
    "Um Teilpunkte zu bekommen, können Sie das Backtracking weglassen und nur den korrekten Alignment-Score berechnen."
   ]
  },
  {
   "cell_type": "code",
   "execution_count": 90,
   "metadata": {},
   "outputs": [
    {
     "name": "stdout",
     "output_type": "stream",
     "text": [
      " OK  got: -5 expected: -5\n",
      " OK  got: -2 expected: -2\n",
      " OK  got: -1 expected: -1\n",
      " OK  got: ['ATTTTG', 'A---TG'] expected: ['ATTTTG', 'A---TG']\n",
      "  X  got: ['ATTTTG', 'A---TG'] expected: ['ATTTTG', 'AT---G']\n",
      " OK  got: -2 expected: -2\n",
      " OK  got: -13 expected: -13\n",
      "  X  got: (-14, ['---AAAA', 'TTTT---']) expected: (-14, ['AAAA----', '----TTTT'])\n",
      " OK  got: 1 expected: 1\n",
      " OK  got: ['ATTTTG', 'A---TG'] expected: ['ATTTTG', 'A---TG']\n",
      "  X  got: ['ATTTTG', 'A---TG'] expected: ['ATTTTG', 'AT---G']\n",
      " OK  got: ['AAAG', '---G'] expected: ['AAAG', '---G']\n",
      " OK  got: ['CAAA', 'C---'] expected: ['CAAA', 'C---']\n"
     ]
    }
   ],
   "source": [
    "def align_affine(v, w, match_score, mismatch_score, gap_open_score, gap_extend_score):\n",
    "    m = len(v)\n",
    "    n = len(w)\n",
    "    s = [[0 for _ in range(n + 1)] for _ in range(m + 1)]\n",
    "    d = [[float('-inf') for _ in range(n + 1)] for _ in range(m + 1)]\n",
    "    r = [[float('-inf') for _ in range(n + 1)] for _ in range(m + 1)]\n",
    "    bt_s = [[None for _ in range(n + 1)] for _ in range(m + 1)]\n",
    "    bt_d = [[None for _ in range(n + 1)] for _ in range(m + 1)]\n",
    "    bt_r = [[None for _ in range(n + 1)] for _ in range(m + 1)]\n",
    "\n",
    "    # Initialisierung der Gap-Kosten\n",
    "    for i in range(1, m + 1):\n",
    "        d[i][0] = gap_open_score + (i - 1) * gap_extend_score\n",
    "        s[i][0] = d[i][0]\n",
    "        bt_d[i][0] = '↑'\n",
    "        bt_s[i][0] = '↑'\n",
    "        \n",
    "    for j in range(1, n + 1):\n",
    "        r[0][j] = gap_open_score + (j - 1) * gap_extend_score\n",
    "        s[0][j] = r[0][j]\n",
    "        bt_r[0][j] = '←'\n",
    "        bt_s[0][j] = '←'\n",
    "        \n",
    "    # Rekursion\n",
    "    for i in range(1, m + 1):\n",
    "        for j in range(1, n + 1):\n",
    "            d[i][j] = max(d[i-1][j] + gap_extend_score, s[i-1][j] + gap_open_score)\n",
    "            bt_d[i][j] = '↑' if d[i][j] == d[i-1][j] + gap_extend_score else '↑' \n",
    "\n",
    "            r[i][j] = max(r[i][j-1] + gap_extend_score, s[i][j-1] + gap_open_score)\n",
    "            bt_r[i][j] = '←' if r[i][j] == r[i][j-1] + gap_extend_score else '←' \n",
    "\n",
    "            match_or_mismatch = match_score if v[i-1] == w[j-1] else mismatch_score\n",
    "            s[i][j] = max(s[i-1][j-1] + match_or_mismatch, d[i][j], r[i][j])\n",
    "            if s[i][j] == s[i-1][j-1] + match_or_mismatch:\n",
    "                bt_s[i][j] = '↖'\n",
    "            elif s[i][j] == d[i][j]:\n",
    "                bt_s[i][j] = '↑'\n",
    "            else:\n",
    "                bt_s[i][j] = '←'\n",
    "            \n",
    "    # Backtracking\n",
    "    i, j = m, n\n",
    "    al = [\"\", \"\"]\n",
    "    bt = bt_s  \n",
    "    while i > 0 or j > 0:\n",
    "        if bt == bt_s:\n",
    "            if bt_s[i][j] == '↖':\n",
    "                al[0] += v[i - 1]\n",
    "                al[1] += w[j - 1]\n",
    "                i -= 1\n",
    "                j -= 1\n",
    "            elif bt_s[i][j] == '↑':\n",
    "                bt = bt_d\n",
    "            else:\n",
    "                bt = bt_r\n",
    "        elif bt == bt_d:\n",
    "            al[0] += v[i - 1]\n",
    "            al[1] += '-'\n",
    "            i -= 1\n",
    "            bt = bt_s\n",
    "        else:  \n",
    "            al[0] += '-'\n",
    "            al[1] += w[j - 1]\n",
    "            j -= 1\n",
    "            bt = bt_s\n",
    "    \n",
    "    # Drehe Alignments um\n",
    "    al[0] = al[0][::-1]\n",
    "    al[1] = al[1][::-1]\n",
    "    \n",
    "    return s[m][n], al\n",
    "\n",
    "# simple test() function to check function returns vs. what the function was supposed to return.\n",
    "def test(got, expected):\n",
    "    if got == expected:\n",
    "        prefix = ' OK '\n",
    "    else:\n",
    "        prefix = '  X '\n",
    "    print('%s got: %s expected: %s' % (prefix, repr(got), repr(expected)))\n",
    "\n",
    "test(align_affine('AAAA', 'A', 3, -3, -6, -1)[0], -5)\n",
    "test(align_affine('AAAAG', 'AG', 3, -3, -6, -1)[0], -2)\n",
    "test(align_affine('ATTTTG', 'ATG', 1, -1, -2, -1)[0], -1)\n",
    "\n",
    "# von den folgenden zwei muss nur einer True sein\n",
    "test(align_affine('ATTTTG', 'ATG', 1, -1, -2, -1)[1], ['ATTTTG', 'A---TG'])\n",
    "test(align_affine('ATTTTG', 'ATG', 1, -1, -2, -1)[1], ['ATTTTG', 'AT---G'])\n",
    "\n",
    "test(align_affine('GGGTTAGGGTC', 'GAAACTAGGG', 1, -1, -2, -1)[0], -2)\n",
    "test(align_affine('CAAAACGCAAAAC', 'CGC', 1, -1, -5, -1)[0], -13)\n",
    "test(align_affine('AAAA', 'TTTT', 3, -4, -4, -1), (-14, ['AAAA----', '----TTTT']))\n",
    "test(align_affine('ATTTTG', 'ATG', 1, -1, -2, 0)[0], 1)\n",
    "     \n",
    "# von den folgenden zwei muss nur einer True sein\n",
    "test(align_affine('ATTTTG', 'ATG', 1, -1, -2, 0)[1], ['ATTTTG', 'A---TG'])\n",
    "test(align_affine('ATTTTG', 'ATG', 1, -1, -2, 0)[1], ['ATTTTG', 'AT---G'])\n",
    "\n",
    "test(align_affine('AAAG', 'G', 1, -1, -2, 0)[1], ['AAAG', '---G'])\n",
    "test(align_affine('CAAA', 'C', 1, -1, -2, 0)[1], ['CAAA', 'C---'])\n"
   ]
  },
  {
   "cell_type": "markdown",
   "metadata": {},
   "source": [
    "## Aufgabe 6.3 (3/4 Punkte, 1/1 + 2/3)\n",
    "\n",
    "In der Vorlesung wurden globale Alignments auf mehr als zwei Sequenzen verallgemeinert. Der Needleman-Wunsch-Algorithmus kann so angepasst werden, dass er für eine beliebige Anzahl an Sequenzen funktioniert, allerdings steigt die Laufzeit dabei für $k$ Sequenzen auf $\\mathcal{O}(2^k n^k)$. Eine Alternative besteht darin, immer nur paarweise zu alignieren, d. h. mit zwei Sequenzen zu beginnen, aus deren Alignment einen Konsensus zu bilden, diesen gegen die dritte Sequenz zu alignieren, den Konsensus daraus gegen die vierte Sequenz usw.\n",
    "\n",
    "Der Konsensus für ein (paarweises) Alignment sei wie folgt definiert:\n",
    "- Bei Match-Positionen (beide Sequenzen haben ein identisches Zeichen) wird das entsprechende Zeichen genommen.\n",
    "- Bei Mismatch-Positionen wird das lexikographisch kleinere Zeichen genommen. (Theoretisch ist es unbestimmt, aber wir definieren es für diese Aufgabe so, damit der Konsensus eindeutig ist.)\n",
    "- Bei Gap-Positionen wird das jeweilige Nicht-Gap-Zeichen genommen. (Positionen mit Gaps in beiden Sequenzen kommen nicht vor.)"
   ]
  },
  {
   "cell_type": "markdown",
   "metadata": {},
   "source": [
    "(a) Implementieren Sie eine Funktion, die den Konsensus eines paarweisen Alignments ausgibt. Die Eingabe ist eine Liste mit zwei gleich langen Strings, also dem zweiten Rückgabewert der Needleman-Wunsch-Implementierung."
   ]
  },
  {
   "cell_type": "code",
   "execution_count": 99,
   "metadata": {},
   "outputs": [],
   "source": [
    "def consensus(alignments):\n",
    "    if len(alignments) != 2 or len(alignments[0]) != len(alignments[1]):\n",
    "        raise ValueError(\"Input must be a list with two equally long strings\")\n",
    "\n",
    "    seq1, seq2 = alignments\n",
    "    consensus_str = []\n",
    "\n",
    "    for a, b in zip(seq1, seq2):\n",
    "        if a == b:\n",
    "            consensus_str.append(a)\n",
    "        elif a == '-':\n",
    "            consensus_str.append(b)\n",
    "        elif b == '-':\n",
    "            consensus_str.append(a)\n",
    "        else:\n",
    "            consensus_str.append(min(a, b))\n",
    "\n",
    "    return ''.join(consensus_str)"
   ]
  },
  {
   "cell_type": "code",
   "execution_count": 100,
   "metadata": {},
   "outputs": [
    {
     "name": "stdout",
     "output_type": "stream",
     "text": [
      " OK  got: 'ACGT' expected: 'ACGT'\n",
      " OK  got: 'ACAT' expected: 'ACAT'\n",
      " OK  got: 'ATAT' expected: 'ATAT'\n",
      " OK  got: 'CAGT' expected: 'CAGT'\n"
     ]
    }
   ],
   "source": [
    "test(consensus(['ACGT', 'ACGT']), 'ACGT')\n",
    "test(consensus(['ACGT', 'ACAT']), 'ACAT')\n",
    "test(consensus(['A--T', 'ATAT']), 'ATAT')\n",
    "test(consensus(['CA--', '--GT']), 'CAGT')"
   ]
  },
  {
   "cell_type": "markdown",
   "metadata": {},
   "source": [
    "(b) Für ein Alignment aus drei Sequenzen definieren wir den Score wie folgt:<br><br>\n",
    "Alignment von $3$ Zeichen:<br>\n",
    "- $3$ Zeichen gleich: $3$ $\\cdot$ Match-Score,<br>\n",
    "- $2$ Zeichen gleich: Match-Score $+$ $2$ $\\cdot$ Mismatch-Score,<br>\n",
    "- Alle Zeichen verschieden: $3$ $\\cdot$ Mismatch-Score,<br>\n",
    "\n",
    "Alignment von $2$ Zeichen, $1$ Gap:<br>\n",
    "- Beide Zeichen gleich: Match-Score $+$ Indel-Score,<br>\n",
    "- Beide Zeichen verschieden: Mismatch-Score $+$ Indel-Score,<br>\n",
    "\n",
    "Alignment von $1$ Zeichen, $2$ Gaps:<br>\n",
    "- $2$ $\\cdot$ Indel-Score.\n",
    "\n",
    "Für das Beispiel von oben ergäbe sich folgender Score:\n",
    "```\n",
    " C  A  -  C  -  G\n",
    " -  A  -  T  T  G\n",
    " C  A  A  C  -  -\n",
    "------------------\n",
    " 0  3 -2 -1 -2  0 -> Summe = -2\n",
    "```\n",
    "\n",
    "Implementieren Sie eine Funktion, die den korrekten Score für ein Alignment aus drei Sequenzen berechnet."
   ]
  },
  {
   "cell_type": "code",
   "execution_count": 106,
   "metadata": {},
   "outputs": [],
   "source": [
    "def score_3_way(alignments, match_score, mismatch_score, indel_score):\n",
    "    \n",
    "    score = 0\n",
    "\n",
    "    for i in range(len(alignments[0])):\n",
    "        col = [alignments[0][i], alignments[1][i], alignments[2][i]]\n",
    "\n",
    "        if col[0] == col[1] == col[2] and col[0] != '-':\n",
    "            score += 3 * match_score\n",
    "\n",
    "        elif col[0] == col[1] != col[2] or col[0] == col[2] != col[1] or col[1] == col[2] != col[0]:\n",
    "            if '-' in col:\n",
    "                score += match_score + indel_score\n",
    "            else:\n",
    "                score += match_score + 2 * mismatch_score\n",
    "\n",
    "        elif col[0] != col[1] != col[2] != col[0]:\n",
    "            if '-' in col:\n",
    "                score += mismatch_score + indel_score\n",
    "            else:\n",
    "                score += 3 * mismatch_score\n",
    "\n",
    "        if col.count('-') == 2:\n",
    "            score += 2 * indel_score\n",
    "\n",
    "    return score"
   ]
  },
  {
   "cell_type": "code",
   "execution_count": 108,
   "metadata": {},
   "outputs": [
    {
     "name": "stdout",
     "output_type": "stream",
     "text": [
      " OK  got: 3 expected: 3\n",
      " OK  got: -1 expected: -1\n",
      " OK  got: -1 expected: -1\n",
      " OK  got: -3 expected: -3\n",
      " OK  got: 0 expected: 0\n",
      " OK  got: -2 expected: -2\n",
      " OK  got: -2 expected: -2\n",
      " OK  got: -2 expected: -2\n",
      " OK  got: 0 expected: 0\n",
      " OK  got: 0 expected: 0\n",
      " OK  got: -3 expected: -3\n",
      " OK  got: -3 expected: -3\n",
      " OK  got: -1 expected: -1\n",
      " OK  got: -4 expected: -4\n",
      "  X  got: -7 expected: -6\n",
      "  X  got: -13 expected: -11\n"
     ]
    }
   ],
   "source": [
    "test(score_3_way(['A', 'A', 'A'], 1, -1, -1), 3)\n",
    "test(score_3_way(['A', 'A', 'C'], 1, -1, -1), -1)\n",
    "test(score_3_way(['A', 'C', 'C'], 1, -1, -1), -1)\n",
    "test(score_3_way(['A', 'C', 'G'], 1, -1, -1), -3)\n",
    "test(score_3_way(['A', 'A', '-'], 1, -1, -1), 0)\n",
    "test(score_3_way(['-', 'C', 'A'], 1, -1, -1), -2)\n",
    "test(score_3_way(['-', 'A', '-'], 1, -1, -1), -2)\n",
    "test(score_3_way(['CA-C-G', '-A-TTG', 'CAAC--'], 1, -1, -1), -2)\n",
    "\n",
    "#additional testcases (rotated, other scores)\n",
    "test(score_3_way(['G', 'G', 'T'], 2, -1, -3), 0)\n",
    "test(score_3_way(['T', 'T', 'G'], 2, -1, -3), 0)\n",
    "test(score_3_way(['C', 'G', 'T'], 2, -1, -3), -3)\n",
    "test(score_3_way(['T', 'G', 'A'], 2, -1, -3), -3)\n",
    "test(score_3_way(['G', 'G', '-'], 2, -1, -3), -1)\n",
    "test(score_3_way(['-', 'T', 'C'], 2, -1, -3), -4)\n",
    "test(score_3_way(['-', 'C', '-'], 2, -1, -3), -6)\n",
    "test(score_3_way(['--AAA--', '-ACAAA-', 'ACAAGAC'], 2, -1, -3), -11)"
   ]
  }
 ],
 "metadata": {
  "kernelspec": {
   "display_name": "Python 3 (ipykernel)",
   "language": "python",
   "name": "python3"
  },
  "language_info": {
   "codemirror_mode": {
    "name": "ipython",
    "version": 3
   },
   "file_extension": ".py",
   "mimetype": "text/x-python",
   "name": "python",
   "nbconvert_exporter": "python",
   "pygments_lexer": "ipython3",
   "version": "3.11.5"
  }
 },
 "nbformat": 4,
 "nbformat_minor": 4
}
