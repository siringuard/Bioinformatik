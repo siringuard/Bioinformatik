{
 "cells": [
  {
   "cell_type": "markdown",
   "metadata": {},
   "source": [
    "# Algorithmen in der Bioinformatik – Übungsblatt 1\n",
    "## Abgabe: Freitag, 19.4., 10:30 Uhr\n",
    "\n",
    "Die Abgabe ist mit bis zu 3 Personen möglich und kann auf Deutsch oder Englisch geschrieben sein. **Wichtig: Erstellen Sie für Ihre Abgabe auf ILIAS immer ein Team, auch dann wenn Sie alleine abgeben und Ihr Team dann nur aus einer Person besteht.**\n",
    "\n",
    "Die praktischen Aufgaben sind mit Python3-Code zu lösen.\n",
    "\n",
    "Laden Sie das bearbeitete Jupyter Notebook im ILIAS hoch. Falls Sie Dateien (z. B. Bilder) eingebunden haben, laden Sie stattdessen einen ZIP-Ordner mit dem bearbeiteten Jupyter Notebook und den entsprechenden Dateien im ILIAS hoch.\n",
    "\n",
    "**Hinweis:** Sie können eine Bilddatei in ihre Abgabe einbinden, indem Sie test.png durch den entsprechenden Dateinamen ersetzen:\n",
    "\n",
    "<img src=\"test.png\">"
   ]
  },
  {
   "cell_type": "markdown",
   "metadata": {},
   "source": [
    "## Testfunktion"
   ]
  },
  {
   "cell_type": "code",
   "execution_count": null,
   "metadata": {},
   "outputs": [],
   "source": [
    "# simple test() function to check function returns vs. what the function was supposed to return.\n",
    "def test(got, expected):\n",
    "    if got == expected:\n",
    "        prefix = ' OK '\n",
    "    else:\n",
    "        prefix = '  X '\n",
    "    print('%s got: %s expected: %s' % (prefix, repr(got), repr(expected)))"
   ]
  },
  {
   "cell_type": "markdown",
   "metadata": {},
   "source": [
    "## Aufgabe 1.1 (2 Punkte)\n",
    "\n",
    "Machen Sie sich mit dem Jupyter-Notebook und den Features vertraut:<br>"
   ]
  },
  {
   "cell_type": "markdown",
   "metadata": {},
   "source": [
    "(a) Erstellen Sie ein Code-Feld mit einer Print-Funktion."
   ]
  },
  {
   "cell_type": "markdown",
   "metadata": {},
   "source": [
    "(b) Erstellen Sie ein Markdown-Feld mit einer mathematischen Gleichung im LaTeX-Mathemodus."
   ]
  },
  {
   "cell_type": "markdown",
   "metadata": {},
   "source": [
    "## Aufgabe 1.2 (5 Punkte)\n",
    "\n",
    "Nutzen Sie eine Markdown-Zelle und LaTeX, um einen Induktionsbeweis zu erstellen. Für die volle Punktzahl wird erwartet, dass Sie an geeigneter Stelle die Induktionsvoraussetzung einsetzen und kenntlich machen. Beweisen Sie:\n",
    "\n",
    "$n! > 2^n ~~\\forall n \\in \\mathbb{N}, n \\geq 4$"
   ]
  },
  {
   "cell_type": "markdown",
   "metadata": {},
   "source": [
    "## Aufgabe 1.3 (8 Punkte, 2 + 4 + 2)\n",
    "\n",
    "Gegeben seien im Folgenden ein Text $T = t_0 t_1 t_2 \\dots t_{n-1}$, ein Muster $s = s_0 s_1 s_2 \\dots s_{m-1}$, $m \\leq n$, sowie $k \\in \\mathbb{N}$."
   ]
  },
  {
   "cell_type": "markdown",
   "metadata": {},
   "source": [
    "(a) Implementieren Sie einen Algorithmus, der den Hamming-Abstand $d_H(s, s')$ zwischen zwei Zeichenketten $s$ und $s'$ berechnet. Sie dürfen annehmen, dass $|s| = |s'|$ gilt, wobei $|x|$ der Länge einer Zeichenkette $x$ entspricht."
   ]
  },
  {
   "cell_type": "code",
   "execution_count": null,
   "metadata": {},
   "outputs": [],
   "source": [
    "def dH(v, w):\n",
    "    pass"
   ]
  },
  {
   "cell_type": "code",
   "execution_count": null,
   "metadata": {},
   "outputs": [],
   "source": [
    "test(dH('', ''), 0)\n",
    "test(dH('abc', 'abz'), 1)\n",
    "test(dH('abc', 'cba'), 2)\n",
    "test(dH('aabc', 'abca'), 3)"
   ]
  },
  {
   "cell_type": "markdown",
   "metadata": {},
   "source": [
    "(b) Implementieren Sie einen Algorithmus, der den Index des ersten Vorkommens einer Zeichenkette $s'$ in $T$ findet, sodass $d_H(s, s') \\leq k$ gilt. Gibt es kein Vorkommen, soll $-1$ zurückgegeben werden."
   ]
  },
  {
   "cell_type": "code",
   "execution_count": null,
   "metadata": {},
   "outputs": [],
   "source": [
    "def pattern_matching_with_k_errors(text, pattern, k):\n",
    "    pass"
   ]
  },
  {
   "cell_type": "code",
   "execution_count": null,
   "metadata": {},
   "outputs": [],
   "source": [
    "test(pattern_matching_with_k_errors('AGCGTATTCGGTAGC', 'AGGTG', 2), 8)\n",
    "test(pattern_matching_with_k_errors('', 'A', 0), -1)\n",
    "test(pattern_matching_with_k_errors('AGCGTATTCGGTAGC', 'TAGC', 0), 11)\n",
    "test(pattern_matching_with_k_errors('AGCGTATTCGGTAGC', 'TAGC', 2), 4)"
   ]
  },
  {
   "cell_type": "markdown",
   "metadata": {},
   "source": [
    "(c) Geben Sie begründet die Laufzeit Ihres Algorithmus in $\\mathcal{O}$-Notation an."
   ]
  },
  {
   "cell_type": "markdown",
   "metadata": {},
   "source": [
    "## Aufgabe 1.4 (5 Punkte)\n",
    "\n",
    "Sei $\\Sigma = \\{\\mathit{A, C, G, T}\\}$ ein Alphabet. Für jedes $k$-mer $s$ gelte $s \\in \\Sigma^k$. (Ein $k$-mer ist eine Zeichenkette der Länge $k$.)\n",
    "\n",
    "Sei $x$ ein $k$-mer.\n",
    "\n",
    "Wir definieren dessen $d$-Nachbarschaft als die Menge aller $k$-mere, die einen Hamming-Abstand von höchstens $d$ zu $x$ haben.\n",
    "\n",
    "Zum Beispiel ist für das $k$-mer $\\mathit{ACG}$ und $d=1$ die $d$-Nachbarschaft: $\\{\\mathit{AAG, ACA, ACC, ACG, ACT, AGG, ATG, CCG, GCG, TCG}\\}$.\n",
    "\n",
    "Implementieren Sie einen Algorithmus, der für ein $k$-mer $x$ und eine ganze Zahl $d$ die $d$-Nachbarschaft berechnet."
   ]
  },
  {
   "cell_type": "code",
   "execution_count": null,
   "metadata": {},
   "outputs": [],
   "source": [
    "def dNeighborhood(x, d):\n",
    "    pass"
   ]
  },
  {
   "cell_type": "code",
   "execution_count": null,
   "metadata": {},
   "outputs": [],
   "source": [
    "test(set(dNeighborhood('ACG', 1)), set(['AAG', 'ACA', 'ACC', 'ACG', 'ACT', 'AGG', 'ATG', 'CCG', 'GCG', 'TCG']))\n",
    "test(set(dNeighborhood('TTT', 1)), set(['ATT', 'CTT', 'GTT', 'TAT', 'TCT', 'TGT', 'TTA', 'TTC', 'TTG', 'TTT']))\n",
    "test(set(dNeighborhood('TTT', 2)), set(['AAT', 'ACT', 'AGT', 'ATT', 'CAT', 'CCT', 'CGT', 'CTT', 'GAT', 'GCT', 'GGT', 'GTT', 'TAT', 'TCT', 'TGT', 'TTT', 'TAA', 'TAC', 'TAG', 'TAT', 'TCA', 'TCC', 'TCG', 'TCT', 'TGA', 'TGC', 'TGG', 'TGT', 'TTA', 'TTC', 'TTG', 'ATA', 'ATC', 'ATG', 'ATT', 'CTA', 'CTC', 'CTG', 'CTT', 'GTA', 'GTC', 'GTG', 'GTT']))"
   ]
  }
 ],
 "metadata": {
  "kernelspec": {
   "display_name": "Python 3 (ipykernel)",
   "language": "python",
   "name": "python3"
  },
  "language_info": {
   "codemirror_mode": {
    "name": "ipython",
    "version": 3
   },
   "file_extension": ".py",
   "mimetype": "text/x-python",
   "name": "python",
   "nbconvert_exporter": "python",
   "pygments_lexer": "ipython3",
   "version": "3.11.5"
  }
 },
 "nbformat": 4,
 "nbformat_minor": 4
}
