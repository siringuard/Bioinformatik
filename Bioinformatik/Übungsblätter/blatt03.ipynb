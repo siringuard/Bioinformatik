{
 "cells": [
  {
   "cell_type": "markdown",
   "metadata": {},
   "source": [
    "# Algorithmen in der Bioinformatik – Übungsblatt 3\n",
    "## Abgabe: Freitag, 10.5., 10:30 Uhr (2 Wochen Bearbeitungszeit)\n",
    "\n",
    "Die Abgabe ist mit bis zu 3 Personen möglich und kann auf Deutsch oder Englisch geschrieben sein. Es muss nur eine Person eines Teams abgeben, in diesem Fall müssen die Namen der Teammitglieder hier in diesem Jupyter Notebook ganz oben genannt werden.\n",
    "\n",
    "Die praktischen Aufgaben sind mit Python3-Code zu lösen.\n",
    "\n",
    "Laden Sie das bearbeitete Jupyter Notebook im ILIAS hoch.\n",
    "\n",
    "**Hinweis:** Sie können eine Bilddatei in ihre Abgabe einbinden, indem Sie test.png durch den entsprechenden Dateinamen ersetzen:"
   ]
  },
  {
   "cell_type": "code",
   "execution_count": null,
   "metadata": {},
   "outputs": [],
   "source": [
    "from IPython.display import Image\n",
    "Image('test.png')"
   ]
  },
  {
   "cell_type": "markdown",
   "metadata": {},
   "source": [
    "## Testfunktion"
   ]
  },
  {
   "cell_type": "code",
   "execution_count": null,
   "metadata": {},
   "outputs": [],
   "source": [
    "# simple test() function to check function returns vs. what the function was supposed to return.\n",
    "def test(got, expected):\n",
    "    if got == expected:\n",
    "        prefix = ' OK '\n",
    "    else:\n",
    "        prefix = '  X '\n",
    "    print('%s got: %s expected: %s' % (prefix, repr(got), repr(expected)))"
   ]
  },
  {
   "cell_type": "markdown",
   "metadata": {},
   "source": [
    "## Aufgabe 3.1 (6 Punkte, 1 + 2 + 1 + 2)"
   ]
  },
  {
   "cell_type": "markdown",
   "metadata": {},
   "source": [
    "(a) Gegeben sei die Permutation $\\pi = 3 \\ 4 \\ 6 \\ 5 \\ 8 \\ 1 \\ 7 \\ 2$.\n",
    "\n",
    "Erweitern Sie die Permutation gemäß Foliensatz 3 (Folie 31/43)."
   ]
  },
  {
   "cell_type": "markdown",
   "metadata": {},
   "source": [
    "(b) Wenden Sie $\\mathit{BreakpointReversalSort?}$ aus Foliensatz 3 (Folie 33/43) auf Ihre erweiterte Permutation aus (a) an. Geben Sie alle Zwischenschritte an."
   ]
  },
  {
   "cell_type": "markdown",
   "metadata": {},
   "source": [
    "(c) Gegeben sei die erweiterte Permutation $\\pi = 0 \\ 1 \\ 5 \\ 6 \\ 7 \\ 2 \\ 3 \\ 4 \\ 8 \\ 9$.\n",
    "\n",
    "Wenden Sie $\\mathit{BreakpointReversalSort?}$ aus Foliensatz 3 (Folie 33/43) an. Geben Sie alle Zwischenschritte an. Was fällt Ihnen auf?"
   ]
  },
  {
   "cell_type": "markdown",
   "metadata": {},
   "source": [
    "(d) Wenden Sie $\\mathit{CorrectBreakpointReversalSort}$ aus Foliensatz 3 (Folie 37/43) an. Geben Sie alle Zwischenschritte an."
   ]
  },
  {
   "cell_type": "markdown",
   "metadata": {},
   "source": [
    "## Aufgabe 3.2 (7 Punkte, 5 + 2)\n",
    "\n",
    "Betrachten Sie das Pfannkuchen-Problem aus Foliensatz 3 (Folie 23/43):\n",
    "\n",
    "<hr>\n",
    "\n",
    "**Ziel:** Für einen vorgegebenen Stapel von $n$ Pfannkuchen: Was ist die minimale Anzahl von Präfix-Umkehrungen (= Flips), um den Stapel zu ordnen?\n",
    "\n",
    "**Eingabe:** Permutation $\\pi$\n",
    "\n",
    "**Ausgabe:** Eine Abfolge von Flips $r_1 , \\ldots ,r_t$ , die $\\pi$ in die Identitäts-Permutation überführen, so dass $t$ minimal ist (für alle möglichen $r_1, \\ldots, r_v$).\n",
    "\n",
    "<hr>"
   ]
  },
  {
   "cell_type": "markdown",
   "metadata": {},
   "source": [
    "(a) Beschreiben Sie einen Algorithmus, der eine Performance-Garantie von $\\max_{|\\pi| = n} \\frac{A(\\pi)}{\\mathit{Opt}(\\pi)} = 3$ besitzt. Wenn Sie keinen vollständigen Algorithmus finden können, geben Sie Ansätze oder Beobachtungen an, die für die Lösung relevant sein könnten.\n",
    "\n",
    "Beachten Sie, dass nur Präfix-Umkehrungen durchgeführt werden. Das heißt, die linke Seite steht für \"oben\" (hier sollen die kleinsten Pfannkuchen bzw. Zahlen hin) und die rechte Seite für \"unten\".\n",
    "\n",
    "**Hinweis 1:** Überlegen Sie sich, wie die optimale Lösung mit der Anzahl an Breakpoints $b(\\pi)$ zusammenhängt. Es könnte auch hilfreich sein, sich die Idee des Algorithmus aus Foliensatz 3 (Folie 25/43) als Basis zu nehmen und anzupassen.\n",
    "\n",
    "**Hinweis 2:** Ähnlich wie beim *CorrectBreakpointReversalSort* könnte es hilfreich sein, die Sequenz an geeigneter Stelle zu erweitern."
   ]
  },
  {
   "cell_type": "markdown",
   "metadata": {},
   "source": [
    "(b) Begründen Sie, warum die geforderte Performance-Garantie eingehalten wird."
   ]
  },
  {
   "cell_type": "markdown",
   "metadata": {},
   "source": [
    "## Aufgabe 3.3 (7 Punkte, 4 + 3)\n",
    "\n",
    "Das Rucksackproblem ist ein kombinatorisches Optimierungsproblem, welches als Eingabe eine Menge von Gegenständen $i_1, \\ldots, i_n$ sowie eine Gewichtsschranke $G$ bekommt. Jeder Gegenstand $i_j$ besitzt ein Gewicht $w_j \\in \\mathbb{R}_0^+$ und einen Wert $v_j \\in \\mathbb{R}_0^+$. Gesucht ist eine Teilmenge $S \\subseteq \\{i_1 \\ldots i_n\\}$ der Gegenstände, sodass deren Gesamtgewicht kleiner als $G$ ist, d. h. $\\sum\\limits_{i_j \\in S} w_j \\leq G$, und deren Wert $\\sum\\limits_{i_j \\in S} v_j$ maximiert wird.\n",
    "\n",
    "Das Problem lässt sich mit einem gierigen Algorithmus lösen, welcher alle Gegenstände absteigend nach ihrem Verhältnis aus Wert und Gewicht sortiert. Es wird also eine Reihenfolge $k_1, \\ldots, k_n$ der Gegenstände gebildet, sodass gilt:\n",
    "\n",
    "$$\\frac{v_{k_1}}{w_{k_1}} \\geq \\frac{v_{k_2}}{w_{k_2}} \\geq \\ldots \\geq \\frac{v_{k_n}}{w_{k_n}}$$\n",
    "\n",
    "Das heißt, $i_{k_1}$ ist der Gegenstand mit dem besten Verhältnis aus Wert und Gewicht und $i_{k_n}$ der mit dem schlechtesten Verhältnis. Anschließend werden die Gegenstände gemäß dieser Reihenfolge in den Rucksack gelegt, sofern dieser dadurch nicht zu schwer wird. Passt ein Gegenstand nicht mehr hinein, wird er übersprungen und mit dem nächsten weitergemacht, bis der letzte Gegenstand überprüft wurde."
   ]
  },
  {
   "cell_type": "markdown",
   "metadata": {},
   "source": [
    "(a) Implementieren Sie diesen Greedy-Algorithmus."
   ]
  },
  {
   "cell_type": "code",
   "execution_count": null,
   "metadata": {},
   "outputs": [],
   "source": [
    "def greedy_knapsack(weights, values, limit):\n",
    "    # weights and values are lists of size n containing numeric values\n",
    "    # output should be a sorted list of item indices (ranging from 0 to n-1)\n",
    "    pass"
   ]
  },
  {
   "cell_type": "code",
   "execution_count": null,
   "metadata": {},
   "outputs": [],
   "source": [
    "test(greedy_knapsack([1, 1, 1], [3, 7, 5], 2), [1, 2])\n",
    "test(greedy_knapsack([1, 1, 3], [3, 5, 7], 3), [0, 1])\n",
    "test(greedy_knapsack([1, 2, 3, 4], [2, 5, 7, 8], 4), [0, 1])\n",
    "test(greedy_knapsack([4, 5, 6, 7], [5, 6, 7, 8], 15), [0, 1, 2])\n",
    "test(greedy_knapsack([7, 5, 6, 4], [8, 6, 7, 5], 14), [1, 3])\n",
    "test(greedy_knapsack([7, 5, 6, 4, 4], [8, 6, 7, 5, 4], 14), [1, 3, 4])\n",
    "test(greedy_knapsack([7, 5, 6, 4, 4], [8, 6, 7, 5, 4], 15), [1, 2, 3])\n",
    "test(greedy_knapsack([5, 8, 10], [3, 4, 5], 4), [])"
   ]
  },
  {
   "cell_type": "markdown",
   "metadata": {},
   "source": [
    "(b) Welche Performance-Garantie besitzt dieser Algorithmus? Begründen Sie Ihre Antwort."
   ]
  }
 ],
 "metadata": {
  "kernelspec": {
   "display_name": "Python 3 (ipykernel)",
   "language": "python",
   "name": "python3"
  },
  "language_info": {
   "codemirror_mode": {
    "name": "ipython",
    "version": 3
   },
   "file_extension": ".py",
   "mimetype": "text/x-python",
   "name": "python",
   "nbconvert_exporter": "python",
   "pygments_lexer": "ipython3",
   "version": "3.11.5"
  }
 },
 "nbformat": 4,
 "nbformat_minor": 4
}
