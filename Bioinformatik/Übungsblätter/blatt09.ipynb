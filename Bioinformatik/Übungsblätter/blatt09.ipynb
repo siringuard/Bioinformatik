{
 "cells": [
  {
   "cell_type": "markdown",
   "metadata": {},
   "source": [
    "# Algorithmen in der Bioinformatik – Übungsblatt 9\n",
    "## Abgabe: Freitag, 28.6., 10:30 Uhr\n",
    "\n",
    "Die Abgabe ist mit bis zu 3 Personen möglich und kann auf Deutsch oder Englisch geschrieben sein. Es muss nur eine Person eines Teams abgeben, in diesem Fall müssen die Namen der Teammitglieder hier in diesem Jupyter Notebook ganz oben genannt werden.\n",
    "\n",
    "Die praktischen Aufgaben sind mit Python3-Code zu lösen.\n",
    "\n",
    "Laden Sie das bearbeitete Jupyter Notebook im ILIAS hoch.\n",
    "\n",
    "**Hinweis:** Sie können eine Bilddatei in ihre Abgabe einbinden, indem Sie test.png durch den entsprechenden Dateinamen ersetzen:"
   ]
  },
  {
   "cell_type": "raw",
   "metadata": {},
   "source": [
    "from IPython.display import Image\n",
    "Image('test.png')"
   ]
  },
  {
   "cell_type": "code",
   "execution_count": null,
   "metadata": {},
   "outputs": [],
   "source": [
    "# simple test() function to check function returns vs. what the function was supposed to return.\n",
    "def test(got, expected):\n",
    "    if got == expected:\n",
    "        prefix = ' OK '\n",
    "    else:\n",
    "        prefix = '  X '\n",
    "    print('%s got: %s expected: %s' % (prefix, repr(got), repr(expected)))"
   ]
  },
  {
   "cell_type": "markdown",
   "metadata": {},
   "source": [
    "## Aufgabe 9.1 (3 Punkte)\n",
    "\n",
    "Gegeben sei der Text $T = \\mathit{abrakadabra}$. Konstruieren Sie den Suffix-Tree für $T\\$$, d. h., hängen Sie ein $\\$$-Zeichen an $T$ an und konstruieren Sie für den resultierenden String den Suffix-Tree."
   ]
  },
  {
   "cell_type": "markdown",
   "metadata": {},
   "source": [
    "## Aufgabe 9.2 (3 Punkte)\n",
    "\n",
    "Konstruieren Sie den generalisierten Suffix-Tree (und nicht 3 einzelne Suffix-Trees) für die 3 Strings $\\mathit{ACTT, TAC, GTA}$."
   ]
  },
  {
   "cell_type": "markdown",
   "metadata": {},
   "source": [
    "## Aufgabe 9.3 (5 Punkte, 1 + 4)\n",
    "\n",
    "Gegeben seien ein Suffix-Tree $S$ (mit dem \"$\\text{\\$}$\"-Zeichen) für einen Text $T = t_0 t_1 t_2 \\dots t_{m-1}$ sowie ein Muster $P = p_0 p_1 p_2 \\dots p_{n-1}$. Gesucht ist ein Matchindex $i$ von $P$ in $T$, also ein beliebiger Index aus der Menge $M = \\{i \\mid t_i t_{i+1} t_{i+2} \\dots t_{i+n-1} = P\\}$.\n",
    "\n",
    "(a) Begründen Sie, warum $M$ nicht in Zeit $\\mathcal{O}(|P|)$ gefunden werden kann."
   ]
  },
  {
   "cell_type": "markdown",
   "metadata": {},
   "source": [
    "(b) Beschreiben Sie einen Preprocessing-Algorithmus für $S$, sodass ein einzelner Match-Index $i \\in M$ für jedes beliebige Muster $P$ nach dem Preprocessing in Zeit $\\mathcal{O}(|P|)$ gefunden werden kann. Der Preprocessing-Algorithmus darf den Suffix-Tree von $T$ verändern bzw. zusätzliche Informationen in ihm speichern, aber er besitzt kein Wissen über die Muster $P$, die im Suffix-Tree gesucht werden.\n",
    "\n",
    "Schätzen Sie außerdem (ohne Begründung) die Laufzeit Ihres Preprocessing-Algorithmus ab. Für die volle Punktzahl wird eine Laufzeit von $\\mathcal{O}(|T|)$ erwartet.\n",
    "\n",
    "Beschreiben Sie auch, wie Sie nach Ausführung des Preprocessing-Algorithmus einen einzelnen Match-Index finden können."
   ]
  },
  {
   "cell_type": "markdown",
   "metadata": {},
   "source": [
    "## Aufgabe 9.4 (5 Punkte)\n",
    "\n",
    "Gegeben sei ein Suffix-Tree (mit dem $\\text{\\$}$-Zeichen) für einen String $s$. Beschreiben Sie einen Algorithmus mit einer Laufzeit in $\\mathcal{O}(|s|)$, der den längsten Substring ausgibt, der mindestens 2-mal in $s$ vorkommt. (Die beiden Vorkommen dürfen sich überlappen.)\n",
    "\n",
    "Begründen Sie, warum die geforderte Laufzeit eingehalten wird.\n",
    "\n",
    "**Hinweis:** Sie können die Knoten eines Suffix-Trees beschriften."
   ]
  },
  {
   "cell_type": "markdown",
   "metadata": {},
   "source": [
    "## Aufgabe 9.5 (4 Punkte)\n",
    "\n",
    "Implementieren Sie die Funktion `approximate_matching(p, T, k)`, die eine sortierte Liste aller Positionen ausgibt, an denen ein Muster $p$ in einem Text $T$ vorkommt, wobei das Vorkommen bis zu $k$ Mismatches haben darf. Die Funktion soll dabei nicht das gesamte Muster auf einmal suchen, sondern mit Hilfe des in der Vorlesung vorgestellten Filter-Verfahrens kleine exakte Matches suchen und dann versuchen, diese zu erweitern (Foliensatz 6, Folie 24/34)."
   ]
  },
  {
   "cell_type": "code",
   "execution_count": null,
   "metadata": {},
   "outputs": [],
   "source": [
    "def dH(v, w): # Hamming-Distanz von Blatt 1\n",
    "    return sum([vi != wi for vi, wi in zip(v, w)])\n",
    "\n",
    "def approximate_matching(p, T, k):\n",
    "    pass\n",
    "\n",
    "test(approximate_matching('TTTT', 'AGCTTTAGCGATTCGTTTCGAT', 1), [2, 3, 14, 15])\n",
    "test(approximate_matching('AGGGA', 'TCAGGATCTAAGGAGAGACTC', 1), [9, 13])\n",
    "test(approximate_matching('GCATAC', 'GCAAACAAGGAGCATTTTCATGG', 2), [0, 11])"
   ]
  }
 ],
 "metadata": {
  "kernelspec": {
   "display_name": "Python 3 (ipykernel)",
   "language": "python",
   "name": "python3"
  },
  "language_info": {
   "codemirror_mode": {
    "name": "ipython",
    "version": 3
   },
   "file_extension": ".py",
   "mimetype": "text/x-python",
   "name": "python",
   "nbconvert_exporter": "python",
   "pygments_lexer": "ipython3",
   "version": "3.11.5"
  }
 },
 "nbformat": 4,
 "nbformat_minor": 4
}
