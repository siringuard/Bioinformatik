{
 "cells": [
  {
   "cell_type": "markdown",
   "metadata": {},
   "source": [
    "# Algorithmen in der Bioinformatik – Übungsblatt 7\n",
    "## Abgabe: Freitag, 14.6., 10:30 Uhr\n",
    "\n",
    "Die Abgabe ist mit bis zu 3 Personen möglich und kann auf Deutsch oder Englisch geschrieben sein. Es muss nur eine Person eines Teams abgeben, in diesem Fall müssen die Namen der Teammitglieder hier in diesem Jupyter Notebook ganz oben genannt werden.\n",
    "\n",
    "Die praktischen Aufgaben sind mit Python3-Code zu lösen.\n",
    "\n",
    "Laden Sie das bearbeitete Jupyter Notebook im ILIAS hoch.\n",
    "\n",
    "**Hinweis:** Sie können eine Bilddatei in ihre Abgabe einbinden, indem Sie test.png durch den entsprechenden Dateinamen ersetzen:"
   ]
  },
  {
   "cell_type": "raw",
   "metadata": {},
   "source": [
    "from IPython.display import Image\n",
    "Image('test.png')"
   ]
  },
  {
   "cell_type": "code",
   "execution_count": null,
   "metadata": {},
   "outputs": [],
   "source": [
    "# simple test() function to check function returns vs. what the function was supposed to return.\n",
    "def test(got, expected):\n",
    "    if got == expected:\n",
    "        prefix = ' OK '\n",
    "    else:\n",
    "        prefix = '  X '\n",
    "    print('%s got: %s expected: %s' % (prefix, repr(got), repr(expected)))"
   ]
  },
  {
   "cell_type": "markdown",
   "metadata": {},
   "source": [
    "## Aufgabe 7.1 (6 Punkte, 2 + 2 + 1 + 1)\n",
    "\n",
    "Zeigen Sie, dass Hamilton-Zyklus (abgekürzt HC) aus Foliensatz 6 (Folie 12/89) NP-vollständig ist. Nehmen Sie an, dass bereits gezeigt wurde, dass das Hamilton-Pfad-Problem (abgekürzt HP) NP-vollständig ist, das wie folgt definiert ist:\n",
    "<hr>\n",
    "\n",
    "**Eingabe:** Ein ungerichteter Graph $G = (V, E)$.\n",
    "\n",
    "**Ausgabe:** Enthält $G$ einen Pfad, der alle Knoten genau einmal besucht?\n",
    "\n",
    "<hr>\n",
    "\n",
    "In der folgenden Tabelle steht links die allgemeine Vorgehensweise bei einem NP-Vollständigkeitsbeweis, während rechts die konkrete Umsetzung für diese Aufgabe stehen soll. Die folgenden Teilaufgaben beziehen sich auf die entsprechenden Einträge in der rechten Spalte der Tabelle.\n",
    "\n",
    "| Allgemeine Vorgehensweise | Konkret für diesen Beweis |\n",
    "| :-------- | :-------- |\n",
    "| Teil 1 (obere Schranke): Das unbekannte Problem $B$ liegt in NP (also $B$ ist **höchstens** in NP.) Dazu muss gezeigt werden, wie für eine Lösung in Polynomialzeit überprüft werden kann, ob sie stimmt. | siehe Teilaufgabe (a) |\n",
    "| Teil 2 (untere Schranke): Das bekannte NP-vollständige Problem $A$ ist reduzierbar auf das unbekannte Problem $B$ (Notation: $A \\leq_p B$).<br>Dann wissen wir, dass $B$ NP-schwer ist (also $B$ ist **mindestens** in NP). | Wir zeigen HP $\\leq_p$ HC. |\n",
    "| Die Reduktion funktioniert wie folgt: Wir suchen eine Funktion $f$, die in Polynomialzeit die Eingabeinstanz $X$ für $A$ in eine Eingabeinstanz $f(X)$ für $B$ transformiert, sodass gilt:<br>$X$ ist eine Ja-Instanz für $A$ $\\Leftrightarrow$ $f(X)$ ist eine Ja-Instanz für $B$.<br>(Wenn ein Algorithmus Problem $B$ lösen kann und dann durch eine \"einfache\" Transformation auch $A$ lösen kann, dann hat $B$ mindestens dieselbe Komplexität wie $A$ (also ist $B$ mindestens so schwer zu lösen wie $A$).) | $G = (V, E)$ (für HP) muss in Polynomialzeit verändert werden zu $f(G) = G' = (V', E')$ (für HC), sodass gilt:<br>$G$ ist eine Ja-Instanz für HP $\\Leftrightarrow$ $G'$ ist eine Ja-Instanz für HC.<br>$ $<br>$ $ |\n",
    "| Wir definieren ein passendes $f$. | siehe Teilaufgabe (b) |\n",
    "| Wir prüfen, ob gilt: $A$ hat eine Lösung für $X$ $\\Leftarrow$ $B$ hat eine Lösung für $f(X)$. | siehe Teilaufgabe (c) |\n",
    "| Wir prüfen, ob gilt: $A$ hat eine Lösung für $X$ $\\Rightarrow$ $B$ hat eine Lösung für $f(X)$. | siehe Teilaufgabe (d) |\n",
    "| Teil 3 (Schlussfolgerung): Damit haben wir gezeigt, dass Problem $B$ in NP liegt (**höchstens** in NP) und dass es NP-schwer ist (**mindestens** in NP), woraus folgt, dass $B$ NP-vollständig ist. | Damit haben wir gezeigt, dass HC in NP liegt (**höchstens** in NP) und dass es NP-schwer ist (**mindestens** in NP), woraus folgt, dass HC NP-vollständig ist."
   ]
  },
  {
   "cell_type": "markdown",
   "metadata": {},
   "source": [
    "(a) Zeigen Sie zunächst, dass HC in NP liegt. Dazu muss gezeigt werden, wie für eine Lösung in Polynomialzeit überprüft werden kann, ob sie stimmt."
   ]
  },
  {
   "cell_type": "markdown",
   "metadata": {},
   "source": [
    "(b) Finden Sie ein geeignetes $f$, das die Eingabe $G = (V, E)$ für HP transformiert zu einer Eingabe $f(G) = G' = (V', E')$ für HC.<br>\n",
    "In anderen Worten: Sie können beliebig Knoten und Kanten aus $G$ entfernen oder zu $G$ hinzufügen."
   ]
  },
  {
   "cell_type": "markdown",
   "metadata": {},
   "source": [
    "(c) Prüfen Sie, ob gilt: $G'$ ist eine Ja-Instanz für HC $\\Rightarrow$ $G$ ist eine Ja-Instanz für HP. **Hinweis:** Wenn das nicht gilt, müssen Sie (b) evtl. anders lösen."
   ]
  },
  {
   "cell_type": "markdown",
   "metadata": {},
   "source": [
    "(d) Prüfen Sie, ob gilt: $G$ ist eine Ja-Instanz für HP $\\Rightarrow$ $G'$ ist eine Ja-Instanz für HC. **Hinweis:** Wenn das nicht gilt, müssen Sie (b) evtl. anders lösen."
   ]
  },
  {
   "cell_type": "markdown",
   "metadata": {},
   "source": [
    "## Aufgabe 7.2 (6 Punkte)\n",
    "\n",
    "Betrachten Sie das folgende Optimierungsproblem Fixed SCS, welches eine Variante des SCS-Problems aus Foliensatz 6 (Folie 39/89) darstellt:\n",
    "<hr>\n",
    "\n",
    "**Eingabe:** Eine Menge $S = \\{s_1, \\ldots, s_n\\}$ mit Strings über einem Alphabet $\\Sigma$ und eine Zahl $k \\in \\mathbb{N}$.\n",
    "\n",
    "**Ausgabe:** Existiert ein String $s'$ mit $|s'| \\leq k$, der alle Strings aus $S$ als Teilstring enthält, wobei $s_1$ der erste in $s'$ vorkommende String ist und $s_n$ der letzte?\n",
    "\n",
    "<hr>\n",
    "\n",
    "**Hinweis:** Die restlichen Strings $s_2, \\ldots, s_{n-1}$ müssen nicht zwingend in dieser Reihenfolge in $s'$ vorkommen. Nur für den ersten String $s_1$ und letzten String $s_n$ ist das vorgeschrieben. Nehmen Sie außerdem an, dass bereits gezeigt wurde, dass SCS NP-vollständig ist.\n",
    "\n",
    "Zeigen Sie, dass Fixed SCS NP-vollständig ist. Achten Sie auf eine saubere Beweisführung. Sie können sich an der Tabelle in Aufgabe 7.1 orientieren."
   ]
  },
  {
   "cell_type": "markdown",
   "metadata": {},
   "source": [
    "## Aufgabe 7.3 (8 Punkte, 4 + 2 + 2)\n",
    "\n",
    "(a) Zeichnen Sie den Overlap-Graphen für die folgenden 3-mere:\n",
    "$\\{\\mathit{GAA, AAA, AAT, ATC, CTC, CTA, TAG}\\}$. Zeichnen Sie alle Kanten ein, d. h. auch die mit einem Gewicht von 1."
   ]
  },
  {
   "cell_type": "markdown",
   "metadata": {},
   "source": [
    "(b) Führen Sie den Greedy-SCS-Algorithmus (Foliensatz 6, Folie 40/89) auf der angegebenen Stringmenge aus. Geben Sie bei jedem Schritt an, welche Strings zusammengefügt wurden."
   ]
  },
  {
   "cell_type": "markdown",
   "metadata": {},
   "source": [
    "(c) Ist das Ergebnis des Greedy-SCS-Algorithmus für diese Eingabe eindeutig? Falls ja: Ist das Ergebnis optimal? Falls nein: Haben die Ergebnisse unterschiedliche Längen?"
   ]
  }
 ],
 "metadata": {
  "kernelspec": {
   "display_name": "Python 3 (ipykernel)",
   "language": "python",
   "name": "python3"
  },
  "language_info": {
   "codemirror_mode": {
    "name": "ipython",
    "version": 3
   },
   "file_extension": ".py",
   "mimetype": "text/x-python",
   "name": "python",
   "nbconvert_exporter": "python",
   "pygments_lexer": "ipython3",
   "version": "3.11.5"
  }
 },
 "nbformat": 4,
 "nbformat_minor": 4
}
