{
 "cells": [
  {
   "cell_type": "markdown",
   "metadata": {},
   "source": [
    "# Algorithmen in der Bioinformatik – Übungsblatt 4\n",
    "## Abgabe: Freitag, 17.5., 10:30 Uhr\n",
    "\n",
    "Die Abgabe ist mit bis zu 3 Personen möglich und kann auf Deutsch oder Englisch geschrieben sein. Es muss nur eine Person eines Teams abgeben, in diesem Fall müssen die Namen der Teammitglieder hier in diesem Jupyter Notebook ganz oben genannt werden.\n",
    "\n",
    "Die praktischen Aufgaben sind mit Python3-Code zu lösen.\n",
    "\n",
    "Laden Sie das bearbeitete Jupyter Notebook im ILIAS hoch.\n",
    "\n",
    "**Hinweis:** Sie können eine Bilddatei in ihre Abgabe einbinden, indem Sie test.png durch den entsprechenden Dateinamen ersetzen:"
   ]
  },
  {
   "cell_type": "code",
   "execution_count": null,
   "metadata": {},
   "outputs": [],
   "source": [
    "from IPython.display import Image\n",
    "Image('test.png')"
   ]
  },
  {
   "cell_type": "markdown",
   "metadata": {},
   "source": [
    "## Testfunktion"
   ]
  },
  {
   "cell_type": "code",
   "execution_count": null,
   "metadata": {},
   "outputs": [],
   "source": [
    "# simple test() function to check function returns vs. what the function was supposed to return.\n",
    "def test(got, expected):\n",
    "    if got == expected:\n",
    "        prefix = ' OK '\n",
    "    else:\n",
    "        prefix = '  X '\n",
    "    print('%s got: %s expected: %s' % (prefix, repr(got), repr(expected)))"
   ]
  },
  {
   "cell_type": "markdown",
   "metadata": {},
   "source": [
    "## Aufgabe 4.1 (1 Punkt)\n",
    "\n",
    "Implementieren Sie ein Programm, welches die $n$-te Fibonacci-Zahl ausgibt. Das Programm soll auf dynamischer Programmierung basieren.<br>\n",
    "Die Fibonacci-Zahlen sind wie folgt definiert:\n",
    "$f_0 = 0, f_1 = 1,$ und $f_n = f_{n-1} + f_{n-2}$ für $n \\geq 2$.\n",
    "\n",
    "**Hinweis:** Verwenden Sie ein 1D-Array."
   ]
  },
  {
   "cell_type": "code",
   "execution_count": null,
   "metadata": {},
   "outputs": [],
   "source": [
    "def fibonacci(n):\n",
    "    pass"
   ]
  },
  {
   "cell_type": "code",
   "execution_count": null,
   "metadata": {},
   "outputs": [],
   "source": [
    "test(fibonacci(6), 8)\n",
    "test(fibonacci(7), 13)"
   ]
  },
  {
   "cell_type": "markdown",
   "metadata": {},
   "source": [
    "**Bewertungsvorschlag: 1 Punkt**"
   ]
  },
  {
   "cell_type": "markdown",
   "metadata": {},
   "source": [
    "## Aufgabe 4.2 (9 Punkte, 2 + 2 + 2 + 2 + 1)\n",
    "\n",
    "Das Manhattan-Tourist-Problem wurde auf Graphen eingeführt, die einem rechteckigen Gitter der Größe $n \\times m$ entsprechen."
   ]
  },
  {
   "cell_type": "markdown",
   "metadata": {},
   "source": [
    "(a) In Aufgabe 4.1 haben Sie dynamische Programmierung mit einem 1D-Array implementiert. Implementieren Sie nun ein Programm, welches das Manhattan-Tourist-Problem löst und auf dynamischer Programmierung basiert (also ein 2D-Array verwendet).<br>\n",
    "Die Eingabe ist ein Gittergraph in Form eines Dictionarys, welches ein Tupel von Knoten auf ein Gewicht abbildet, sowie die Größen $n$ und $m$ des Graphen (siehe nächste Zelle und die Testcases). Für diesen Graphen soll die Länge des längsten Weges (d. h. die Summe der Kantengewichte auf dem Weg) ausgegeben werden vom Startfeld (oben links) zum Endfeld (unten rechts)."
   ]
  },
  {
   "cell_type": "code",
   "execution_count": null,
   "metadata": {},
   "outputs": [],
   "source": [
    "# einmal ausführen, um die Testgraphen g1 und g2 zu erzeugen\n",
    "from collections import defaultdict\n",
    "g1 = defaultdict(lambda: 1)\n",
    "g1[((0, 0), (0, 1))] = 0\n",
    "g1[((0, 2), (0, 3))] = -3\n",
    "g1[((0, 4), (1, 4))] = 9\n",
    "g1[((1, 1), (2, 1))] = 5\n",
    "g1[((1, 4), (2, 4))] = 5\n",
    "g1[((2, 1), (2, 2))] = 2\n",
    "g1[((2, 2), (2, 3))] = 4\n",
    "g1[((3, 1), (4, 1))] = 5\n",
    "g1[((4, 2), (4, 3))] = 3\n",
    "g2 = defaultdict(lambda: 1)\n",
    "g2[((0, 0), (0, 1))] = 3\n",
    "g2[((1, 1), (1, 2))] = 5\n",
    "g2[((1, 4), (1, 5))] = 3\n",
    "g2[((2, 5), (2, 6))] = 3\n",
    "g2[((2, 0), (3, 0))] = 2\n",
    "g2[((3, 3), (3, 4))] = 2\n",
    "g2[((3, 5), (4, 5))] = 7\n",
    "g2[((4, 5), (4, 6))] = 2\n",
    "g2[((4, 6), (4, 7))] = 4\n",
    "g2[((4, 7), (4, 8))] = 5\n",
    "g2[((5, 1), (5, 2))] = 3\n",
    "g2[((5, 5), (6, 5))] = 8\n",
    "g2[((6, 5), (6, 6))] = 2\n",
    "g2[((6, 2), (7, 2))] = 10\n",
    "g2[((6, 6), (7, 6))] = -2\n",
    "g2[((7, 7), (7, 8))] = 3"
   ]
  },
  {
   "cell_type": "code",
   "execution_count": null,
   "metadata": {},
   "outputs": [],
   "source": [
    "def solve_mtp_dp(g, n, m):\n",
    "    pass"
   ]
  },
  {
   "cell_type": "code",
   "execution_count": null,
   "metadata": {},
   "outputs": [],
   "source": [
    "test(solve_mtp_dp(g1, 4, 4), 18)\n",
    "test(solve_mtp_dp(g2, 8, 8), 40)"
   ]
  },
  {
   "cell_type": "markdown",
   "metadata": {},
   "source": [
    "(b) Wie viele verschiedene Wege von oben links nach unten rechts gibt es in einem solchen Graphen, wenn nur nach rechts oder nach unten gegangen werden darf? Geben Sie die Lösung als Formel in Abhängigkeit von $m$ und $n$ an und begründen Sie diese."
   ]
  },
  {
   "cell_type": "code",
   "execution_count": 1,
   "metadata": {},
   "outputs": [
    {
     "data": {
      "image/png": "[encoded data removed]",
      "text/plain": [
       "<IPython.core.display.Image object>"
      ]
     },
     "execution_count": 1,
     "metadata": {},
     "output_type": "execute_result"
    }
   ],
   "source": [
    "from IPython.display import Image\n",
    "Image('a4_1.png')"
   ]
  },
  {
   "cell_type": "markdown",
   "metadata": {},
   "source": [
    "(c) Implementieren Sie eine Funktion, die alle Wege aus Teil (b) ausgibt. Eingabe sind die Parameter $n$ und $m$, Ausgabe soll eine Liste von Wegen sein, wobei jeder Weg eine Liste von Koordinaten sein soll, die den Knoten entspricht. Die erste Koordinate ist immer der Startknoten $(0, 0)$ und die letzte ist immer der Zielknoten $(n, m)$. Die Reihenfolge, in der die Wege ausgegeben werden, ist beliebig."
   ]
  },
  {
   "cell_type": "code",
   "execution_count": null,
   "metadata": {},
   "outputs": [],
   "source": [
    "def enumerate_paths(n, m):\n",
    "    pass"
   ]
  },
  {
   "cell_type": "code",
   "execution_count": null,
   "metadata": {},
   "outputs": [],
   "source": [
    "test(enumerate_paths(1, 1), [[(0, 0), (0, 1), (1, 1)], [(0, 0), (1, 0), (1, 1)]])\n",
    "test(enumerate_paths(1, 2), [[(0, 0), (0, 1), (0, 2), (1, 2)], [(0, 0), (0, 1), (1, 1), (1, 2)], [(0, 0), (1, 0), (1, 1), (1, 2)]])\n",
    "test(enumerate_paths(0, 3), [[(0, 0), (0, 1), (0, 2), (0, 3)]])\n",
    "test(enumerate_paths(0, 0), [[(0, 0)]])\n",
    "test(len(enumerate_paths(6, 3)), 84)\n",
    "test(len(enumerate_paths(3, 6)), 84)"
   ]
  },
  {
   "cell_type": "markdown",
   "metadata": {},
   "source": [
    "(d) Implementieren Sie die unten stehende Funktion, die das Manhattan-Tourist-Problem löst.<br>\n",
    "Eingabe und Ausgabe sind wie in (a). Für den Eingabegraphen sollen alle möglichen Wege generiert und die Länge des längsten Weges (d. h. die Summe der Kantengewichte auf dem Weg) ausgegeben werden."
   ]
  },
  {
   "cell_type": "code",
   "execution_count": null,
   "metadata": {},
   "outputs": [],
   "source": [
    "def solve_mtp(g, n, m):\n",
    "    pass"
   ]
  },
  {
   "cell_type": "code",
   "execution_count": null,
   "metadata": {},
   "outputs": [],
   "source": [
    "test(solve_mtp(g1, 4, 4), 18)\n",
    "test(solve_mtp(g2, 8, 8), 40)"
   ]
  },
  {
   "cell_type": "markdown",
   "metadata": {},
   "source": [
    "(e) Vergleichen Sie die Laufzeit der Programme für (a) und (d) für die beiden Testgraphen. Gibt es einen Unterschied? Wenn ja, wieso?"
   ]
  },
  {
   "cell_type": "code",
   "execution_count": null,
   "metadata": {},
   "outputs": [],
   "source": [
    "%timeit solve_mtp_dp(g1, 4, 4)\n",
    "%timeit solve_mtp_dp(g2, 8, 8)\n",
    "%timeit solve_mtp(g1, 4, 4)\n",
    "%timeit solve_mtp(g2, 8, 8)"
   ]
  },
  {
   "cell_type": "markdown",
   "metadata": {},
   "source": [
    "## Aufgabe 4.3 (2 Punkte)\n",
    "\n",
    "Gibt es eine Performance-Garantie für den in der Vorlesung vorgestellten Greedy-Algorithmus für das Manhattan-Tourist-Problem? Begründen Sie."
   ]
  },
  {
   "cell_type": "markdown",
   "metadata": {},
   "source": [
    "## Aufgabe 4.4 (8 Punkte, 3 + 5)\n",
    "\n",
    "Betrachten Sie die Rekurrenz des Münzkettenspiels aus Foliensatz 4 (Folie 27/39), die berechnet, wie viel der Startspieler unabhängig von den Zügen des Gegenspielers mindestens gewinnt:\n",
    "\n",
    "$G(M, i, j) = \\max\n",
    "\\begin{cases}\n",
    "    0&, i > j, \\\\\n",
    "    M_i + \\min\\{G(M, i + 1, j - 1), G(M, i + 2, j)\\}&, i \\leq j, \\\\\n",
    "    M_j + \\min\\{G(M, i + 1, j - 1), G(M, i, j - 2)\\}&, i \\leq j.\n",
    "\\end{cases}$"
   ]
  },
  {
   "cell_type": "markdown",
   "metadata": {},
   "source": [
    "(a) Das Münzkettenspiel soll auf drei Spieler erweitert werden. Dadurch liegen zwischen den eigenen Zügen nicht nur ein fremder Zug, sondern zwei. Erweitern Sie die Rekurrenz der 2-Spieler-Variante, sodass weiterhin für eine beliebige Spielstellung $(M, i, j)$ eine untere Schranke für den eigenen Gesamtmünzwert berechnet wird."
   ]
  },
  {
   "cell_type": "markdown",
   "metadata": {},
   "source": [
    "(b) Für die 2-Spieler-Variante soll nun eine dritte Zugmöglichkeit eingeführt werden, bei der ein Spieler sowohl am Anfang als auch am Ende der Kette jeweils eine Münze entfernt. Anders als bei den anderen beiden Zügen werden diese Münzen aus dem Spiel entfernt, d. h., kein Spieler bekommt sie gutgeschrieben. Diese Zugmöglichkeit ist nur erlaubt, wenn die Kette noch aus mindestens zwei Münzen besteht. Erweitern Sie die Rekurrenz, sodass die zusätzlichen Zugmöglichkeiten berücksichtigt werden."
   ]
  }
 ],
 "metadata": {
  "kernelspec": {
   "display_name": "Python 3 (ipykernel)",
   "language": "python",
   "name": "python3"
  },
  "language_info": {
   "codemirror_mode": {
    "name": "ipython",
    "version": 3
   },
   "file_extension": ".py",
   "mimetype": "text/x-python",
   "name": "python",
   "nbconvert_exporter": "python",
   "pygments_lexer": "ipython3",
   "version": "3.11.5"
  }
 },
 "nbformat": 4,
 "nbformat_minor": 4
}
