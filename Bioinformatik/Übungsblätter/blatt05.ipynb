{
 "cells": [
  {
   "cell_type": "markdown",
   "metadata": {},
   "source": [
    "# Algorithmen in der Bioinformatik – Übungsblatt 5\n",
    "## Abgabe: Freitag, 31.5., 10:30 Uhr (2 Wochen Bearbeitungszeit)\n",
    "\n",
    "Die Abgabe ist mit bis zu 3 Personen möglich und kann auf Deutsch oder Englisch geschrieben sein. Es muss nur eine Person eines Teams abgeben, in diesem Fall müssen die Namen der Teammitglieder hier in diesem Jupyter Notebook ganz oben genannt werden.\n",
    "\n",
    "Die praktischen Aufgaben sind mit Python3-Code zu lösen.\n",
    "\n",
    "Laden Sie das bearbeitete Jupyter Notebook im ILIAS hoch.\n",
    "\n",
    "**Hinweis:** Sie können eine Bilddatei in ihre Abgabe einbinden, indem Sie test.png durch den entsprechenden Dateinamen ersetzen:"
   ]
  },
  {
   "cell_type": "code",
   "execution_count": null,
   "metadata": {},
   "outputs": [],
   "source": [
    "from IPython.display import Image\n",
    "Image('test.png')"
   ]
  },
  {
   "cell_type": "code",
   "execution_count": null,
   "metadata": {},
   "outputs": [],
   "source": [
    "# simple test() function to check function returns vs. what the function was supposed to return.\n",
    "def test(got, expected):\n",
    "    if got == expected:\n",
    "        prefix = ' OK '\n",
    "    else:\n",
    "        prefix = '  X '\n",
    "    print('%s got: %s expected: %s' % (prefix, repr(got), repr(expected)))"
   ]
  },
  {
   "cell_type": "markdown",
   "metadata": {},
   "source": [
    "## Aufgabe 5.1 (10 Punkte, 5 + 5)\n",
    "\n",
    "(a) Wenden Sie den Needleman-Wunsch-Algorithmus auf die beiden Strings $v = \\mathit{APPLE}$ und $w = \\mathit{HAPE}$ an, um **alle** optimalen Alignments zu finden. Das Scoring-Schema ist folgendermaßen: $+1$ für Match, $-1$ für Mismatch und $-1$ für Indel.\n",
    "Geben Sie dabei Folgendes für Ihre Lösung an:\n",
    "- die vollständig ausgefüllte DP-Matrix,\n",
    "- alle Backtracking-Pfeile für die DP-Matrix (bei mehreren optimalen Vorgängern muss für jeden davon ein Pfeil angegeben werden),\n",
    "- alle optimalen Alignments (d. h. beide Strings so übereinander geschrieben, dass die jeweils miteinander assoziierten Zeichen übereinander stehen, inklusive der nötigen Gaps (\"-\"))."
   ]
  },
  {
   "cell_type": "markdown",
   "metadata": {},
   "source": [
    "(b) Implementieren Sie den Needleman-Wunsch-Algorithmus, der für 2 Strings $v$ und $w$ und ein Scoring-Schema (bestehend aus Match-Score, Mismatch-Score, Indel-Score) zwei Rückgabewerte ausgibt: Der erste Rückgabewert soll der optimale Score sein und der zweite soll eine Liste aus zwei Strings sein, die ein optimales Alignment enthalten."
   ]
  },
  {
   "cell_type": "code",
   "execution_count": null,
   "metadata": {},
   "outputs": [],
   "source": [
    "def needleman_wunsch(v, w, match_score, mismatch_score, indel_score):\n",
    "    return None, None"
   ]
  },
  {
   "cell_type": "code",
   "execution_count": null,
   "metadata": {
    "scrolled": true
   },
   "outputs": [],
   "source": [
    "test(needleman_wunsch('AAAA', 'AA', 1, -1, 0)[0], 2)\n",
    "test(needleman_wunsch('AAAA', 'ATA', 2, -9, -1)[0], 1)\n",
    "test(needleman_wunsch('AGACA', 'ACATA', 1, -2, -9)[0], -1)\n",
    "test(needleman_wunsch('AGACA', 'ACATA', 1, -2, -9)[1], ['AGACA', 'ACATA'])\n",
    "test(needleman_wunsch('ATTT', 'TTTA', 1, -2, -2)[1], ['ATTT-', '-TTTA'])\n",
    "\n",
    "# von den folgenden Testfällen muss nur einer korrekt sein, da die Instanz mehrere optimale Lösungen hat\n",
    "print(['AAAA', 'AA--'] == needleman_wunsch('AAAA', 'AA', 1, -1, 0)[1])\n",
    "print(['AAAA', 'A-A-'] == needleman_wunsch('AAAA', 'AA', 1, -1, 0)[1])\n",
    "print(['AAAA', 'A--A'] == needleman_wunsch('AAAA', 'AA', 1, -1, 0)[1])\n",
    "print(['AAAA', '-AA-'] == needleman_wunsch('AAAA', 'AA', 1, -1, 0)[1])\n",
    "print(['AAAA', '-A-A'] == needleman_wunsch('AAAA', 'AA', 1, -1, 0)[1])\n",
    "print(['AAAA', '--AA'] == needleman_wunsch('AAAA', 'AA', 1, -1, 0)[1])"
   ]
  },
  {
   "cell_type": "markdown",
   "metadata": {},
   "source": [
    "## Aufgabe 5.2 (8 Punkte)\n",
    "\n",
    "Gegeben sind zwei Strings $v = v_1 v_2 \\dots v_{n}$ und $w = w_1 w_2 \\dots w_{m}$ und ein Scoring-Schema mit Match-Score, Mismatch-Score sowie Indel-Score. Das Ziel ist es, eine Matrix $M$ zu berechnen, wobei der Eintrag $M_{i, j}$ definiert ist als der Score eines optimalen globalen Alignments zwischen $v$ und $w$, bei dem die Zeichen $v_i$ und $w_j$ miteinander aligniert sein müssen. Zur Bestimmung von $M_{i, j}$ dürfen die Zeichen $v_i$ und $w_j$ also nicht mit einem Gap aligniert werden.\n",
    "\n",
    "Beschreiben Sie einen Algorithmus, der die Matrix $M$ in Zeit $\\mathcal{O}(n \\cdot m)$ berechnet, und begründen Sie, warum die Laufzeit eingehalten wird. Es gibt Teilpunkte, wenn Sie eine schlechtere Laufzeit erzielen und diese richtig analysieren.\n",
    "\n",
    "**Hinweis:** Versuchen Sie, die Berechnung eines Matrixeintrags in kleinere Schritte zu zerlegen. Überlegen Sie sich zunächst, wie $M$ naiv (d. h. mit einer größeren Laufzeit) berechnet werden kann. Um auf die effiziente Gesamtlaufzeit zu kommen, müssen Zwischenergebnisse wiederverwendet werden."
   ]
  },
  {
   "cell_type": "markdown",
   "metadata": {},
   "source": [
    "## Aufgabe 5.3 (2 Punkte, 1 + 1)\n",
    "\n",
    "(a) Wir vergleichen globales und lokales Alignment für ein festes Scoring-Schema, welches $+1$ für Matches, $-1$ für Mismatches und $-1$ für Indels vergibt. Seien $GA_{1, -1, -1}(v, w)$ und $LA_{1, -1, -1}(v, w)$ die Alignment-Scores bezüglich globalem (GA) und lokalen (LA) Alignment für zwei Strings $v, w$. Welche der folgenden Aussagen sind zutreffend und welche nicht? Geben Sie eine Begründung bzw. ein Gegenbeispiel an.\n",
    "\n",
    "- $GA_{1, -1, -1}(v, w) \\leq LA_{1, -1, -1}(v, w)$ für alle Strings $v$ und $w$\n",
    "- $GA_{1, -1, -1}(v, w) \\geq LA_{1, -1, -1}(v, w)$ für alle Strings $v$ und $w$"
   ]
  },
  {
   "cell_type": "markdown",
   "metadata": {},
   "source": [
    "(b) Wie ändert sich die Gültigkeit der beiden obigen Aussagen, wenn wir nicht ein fixes Scoring-Schema betrachten, sondern Match-Score $\\alpha$, Mismatch-Score $\\mu$ und Indel-Score $\\sigma$ beliebige ganze Zahlen sein können? Begründen Sie Ihre Antworten."
   ]
  }
 ],
 "metadata": {
  "kernelspec": {
   "display_name": "Python 3 (ipykernel)",
   "language": "python",
   "name": "python3"
  },
  "language_info": {
   "codemirror_mode": {
    "name": "ipython",
    "version": 3
   },
   "file_extension": ".py",
   "mimetype": "text/x-python",
   "name": "python",
   "nbconvert_exporter": "python",
   "pygments_lexer": "ipython3",
   "version": "3.11.5"
  }
 },
 "nbformat": 4,
 "nbformat_minor": 4
}
