{
 "cells": [
  {
   "cell_type": "markdown",
   "metadata": {},
   "source": [
    "# Jupyter Notebook"
   ]
  },
  {
   "cell_type": "markdown",
   "metadata": {},
   "source": [
    "## Aufgabe 1.1"
   ]
  },
  {
   "cell_type": "markdown",
   "metadata": {},
   "source": [
    "### a)"
   ]
  },
  {
   "cell_type": "code",
   "execution_count": 3,
   "metadata": {},
   "outputs": [
    {
     "name": "stdout",
     "output_type": "stream",
     "text": [
      "Beispieltext\n"
     ]
    }
   ],
   "source": [
    "print (\"Beispieltext\")"
   ]
  },
  {
   "cell_type": "markdown",
   "metadata": {},
   "source": [
    "### b)"
   ]
  },
  {
   "cell_type": "markdown",
   "metadata": {},
   "source": [
    "$n! > 2^n ~~\\forall n \\in \\mathbb{N}, n \\geq 4$"
   ]
  },
  {
   "cell_type": "markdown",
   "metadata": {},
   "source": [
    "## Aufgabe 1.2"
   ]
  },
  {
   "cell_type": "markdown",
   "metadata": {},
   "source": [
    "Zu Beweisen:\n",
    "$n! > 2^n ~~\\forall n \\in \\mathbb{N}, n \\geq 4$\n",
    "\n",
    "Beweis:\n",
    "\n",
    "Induktionsbasis: n=4:\n",
    "\n",
    "$4! = 1*2*3*4 = 24$\n",
    " \n",
    "$2^4 = 2*2*2*2 = 16$ \n",
    "\n",
    "$24 > 16 $\n",
    "\n",
    "Induktionsannahme: \n",
    "\n",
    "$(n+1)! > 2^{n+1} $\n",
    "\n",
    "Induktionsschritt:\n",
    "\n",
    "$(n+1)! = (n+1) * n! \\overset{\\text{Induktionsvoraussetzung}}{>} (n+1) * 2^n > 2^n * 2 = 2^{n+1}$\n",
    "\n",
    "-> Damit ist die Aussage:  $n! > 2^n ~~\\forall n \\in \\mathbb{N}, n \\geq 4$ , bewiesen\n"
   ]
  },
  {
   "cell_type": "markdown",
   "metadata": {},
   "source": [
    "## Aufgabe 1.3"
   ]
  },
  {
   "cell_type": "markdown",
   "metadata": {},
   "source": [
    "### a)"
   ]
  },
  {
   "cell_type": "code",
   "execution_count": 11,
   "metadata": {},
   "outputs": [
    {
     "name": "stdout",
     "output_type": "stream",
     "text": [
      " OK  got: 0 expected: 0\n",
      " OK  got: 1 expected: 1\n",
      " OK  got: 2 expected: 2\n",
      " OK  got: 3 expected: 3\n"
     ]
    }
   ],
   "source": [
    "def test(got, expected):\n",
    "    if got == expected:\n",
    "        prefix = ' OK '\n",
    "    else:\n",
    "        prefix = '  X '\n",
    "    print('%s got: %s expected: %s' % (prefix, repr(got), repr(expected)))\n",
    "\n",
    "def dH(v, w):\n",
    "    return sum(1 for x,y in zip (v,w) if x != y)\n",
    "\n",
    "test(dH('', ''), 0)\n",
    "test(dH('abc', 'abz'), 1)\n",
    "test(dH('abc', 'cba'), 2)\n",
    "test(dH('aabc', 'abca'), 3)"
   ]
  },
  {
   "cell_type": "markdown",
   "metadata": {},
   "source": [
    "### b)"
   ]
  },
  {
   "cell_type": "code",
   "execution_count": 16,
   "metadata": {},
   "outputs": [
    {
     "name": "stdout",
     "output_type": "stream",
     "text": [
      " OK  got: 8 expected: 8\n",
      " OK  got: -1 expected: -1\n",
      " OK  got: 11 expected: 11\n",
      " OK  got: 4 expected: 4\n"
     ]
    }
   ],
   "source": [
    "def pattern_matching_with_k_errors(text, pattern, k):\n",
    "    if len(pattern) > len (text):\n",
    "        return -1 #Wenn s' länger als Text, dann falsch\n",
    "    for i in range(len(text) - len(pattern) + 1):\n",
    "        current_substring = text[i:i + len(pattern)]\n",
    "        if dH(pattern, current_substring) <= k:\n",
    "            return i  # Erster Index, bei dem die Bedingung erfüllt ist\n",
    "    return -1  # Kein Vorkommen gefunden        \n",
    "\n",
    "test(pattern_matching_with_k_errors('AGCGTATTCGGTAGC', 'AGGTG', 2), 8)\n",
    "test(pattern_matching_with_k_errors('', 'A', 0), -1)\n",
    "test(pattern_matching_with_k_errors('AGCGTATTCGGTAGC', 'TAGC', 0), 11)\n",
    "test(pattern_matching_with_k_errors('AGCGTATTCGGTAGC', 'TAGC', 2), 4)    "
   ]
  },
  {
   "cell_type": "markdown",
   "metadata": {},
   "source": [
    "### c)\n",
    "\n",
    "Die äußere Schleife kann $x = n-m + 1$ ,  \"mal\" durchlaufen werden.  $m$ ist dabei Länge des Patterns und $n$ Länge des Textes.\n",
    "Nun bereichnen wir die Hamming-Distanz für das Pattern, was $O(m)$ Zeit benötigt. Demnach ist der gesamte Zeitaufwand $O((n-m+1)*m)$."
   ]
  },
  {
   "cell_type": "markdown",
   "metadata": {},
   "source": [
    "## Aufgabe 1.4"
   ]
  },
  {
   "cell_type": "code",
   "execution_count": 20,
   "metadata": {},
   "outputs": [
    {
     "name": "stdout",
     "output_type": "stream",
     "text": [
      " OK  got: {'CCG', 'ACG', 'TCG', 'AAG', 'ATG', 'ACA', 'AGG', 'GCG', 'ACT', 'ACC'} expected: {'CCG', 'ACG', 'TCG', 'AAG', 'ATG', 'ACA', 'AGG', 'GCG', 'ACT', 'ACC'}\n",
      " OK  got: {'TGT', 'TCT', 'CTT', 'TAT', 'ATT', 'TTC', 'TTT', 'TTA', 'GTT', 'TTG'} expected: {'TGT', 'TCT', 'CTT', 'TAT', 'ATT', 'TTC', 'TTT', 'TTA', 'GTT', 'TTG'}\n",
      " OK  got: {'TGA', 'TTG', 'TAC', 'TGT', 'TCT', 'CTT', 'TAT', 'ATT', 'TAG', 'TTC', 'TGC', 'CTC', 'GCT', 'ACT', 'GTT', 'ATG', 'CCT', 'CTG', 'CGT', 'GAT', 'TAA', 'ATC', 'GTA', 'TCA', 'TTA', 'CAT', 'TTT', 'GGT', 'TCG', 'CTA', 'GTC', 'ATA', 'AGT', 'TCC', 'AAT', 'GTG', 'TGG'} expected: {'TGA', 'TTG', 'TAC', 'TGT', 'TCT', 'CTT', 'TAT', 'ATT', 'TAG', 'TTC', 'TGC', 'CTC', 'GCT', 'ACT', 'GTT', 'ATG', 'CCT', 'CTG', 'CGT', 'GAT', 'TAA', 'TTT', 'TCA', 'TTA', 'ATC', 'CAT', 'GTA', 'GGT', 'TCG', 'CTA', 'GTC', 'AGT', 'ATA', 'TCC', 'AAT', 'GTG', 'TGG'}\n"
     ]
    }
   ],
   "source": [
    "import itertools\n",
    "\n",
    "def dNeighborhood(x, d):\n",
    "    Alphabet = ['A', 'C', 'G', 'T']\n",
    "    k = len(x)\n",
    "    # Generiere alle möglichen k-mere\n",
    "    all_kmers = [''.join(p) for p in itertools.product(Alphabet, repeat=k)]\n",
    "    neighborhood = set()\n",
    "\n",
    "    # Prüfe für jedes k-mer, ob der Hamming-Abstand zu x höchstens d ist\n",
    "    for kmer in all_kmers:\n",
    "        if dH(x, kmer) <= d:\n",
    "            neighborhood.add(kmer)\n",
    "    \n",
    "    return neighborhood\n",
    "\n",
    "test(set(dNeighborhood('ACG', 1)), set(['AAG', 'ACA', 'ACC', 'ACG', 'ACT', 'AGG', 'ATG', 'CCG', 'GCG', 'TCG']))\n",
    "test(set(dNeighborhood('TTT', 1)), set(['ATT', 'CTT', 'GTT', 'TAT', 'TCT', 'TGT', 'TTA', 'TTC', 'TTG', 'TTT']))\n",
    "test(set(dNeighborhood('TTT', 2)), set(['AAT', 'ACT', 'AGT', 'ATT', 'CAT', 'CCT', 'CGT', 'CTT', 'GAT', 'GCT', 'GGT', 'GTT', 'TAT', 'TCT', 'TGT', 'TTT', 'TAA', 'TAC', 'TAG', 'TAT', 'TCA', 'TCC', 'TCG', 'TCT', 'TGA', 'TGC', 'TGG', 'TGT', 'TTA', 'TTC', 'TTG', 'ATA', 'ATC', 'ATG', 'ATT', 'CTA', 'CTC', 'CTG', 'CTT', 'GTA', 'GTC', 'GTG', 'GTT']))"
   ]
  }
 ],
 "metadata": {
  "language_info": {
   "name": "python"
  }
 },
 "nbformat": 4,
 "nbformat_minor": 2
}
