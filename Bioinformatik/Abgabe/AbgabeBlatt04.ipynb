{
 "cells": [
  {
   "cell_type": "markdown",
   "metadata": {},
   "source": [
    "# Algorithmen in der Bioinformatik – Übungsblatt 4\n",
    "## Abgabe: Freitag, 17.5., 10:30 Uhr\n",
    "\n",
    "Die Abgabe ist mit bis zu 3 Personen möglich und kann auf Deutsch oder Englisch geschrieben sein. Es muss nur eine Person eines Teams abgeben, in diesem Fall müssen die Namen der Teammitglieder hier in diesem Jupyter Notebook ganz oben genannt werden.\n",
    "\n",
    "Die praktischen Aufgaben sind mit Python3-Code zu lösen.\n",
    "\n",
    "Laden Sie das bearbeitete Jupyter Notebook im ILIAS hoch.\n",
    "\n",
    "**Hinweis:** Sie können eine Bilddatei in ihre Abgabe einbinden, indem Sie test.png durch den entsprechenden Dateinamen ersetzen:"
   ]
  },
  {
   "cell_type": "code",
   "execution_count": null,
   "metadata": {},
   "outputs": [],
   "source": [
    "from IPython.display import Image\n",
    "Image('test.png')"
   ]
  },
  {
   "cell_type": "markdown",
   "metadata": {},
   "source": [
    "## Testfunktion"
   ]
  },
  {
   "cell_type": "code",
   "execution_count": null,
   "metadata": {},
   "outputs": [],
   "source": [
    "# simple test() function to check function returns vs. what the function was supposed to return.\n",
    "def test(got, expected):\n",
    "    if got == expected:\n",
    "        prefix = ' OK '\n",
    "    else:\n",
    "        prefix = '  X '\n",
    "    print('%s got: %s expected: %s' % (prefix, repr(got), repr(expected)))"
   ]
  },
  {
   "cell_type": "markdown",
   "metadata": {},
   "source": [
    "## Aufgabe 4.1 (1 Punkt)\n",
    "\n",
    "Implementieren Sie ein Programm, welches die $n$-te Fibonacci-Zahl ausgibt. Das Programm soll auf dynamischer Programmierung basieren.<br>\n",
    "Die Fibonacci-Zahlen sind wie folgt definiert:\n",
    "$f_0 = 0, f_1 = 1,$ und $f_n = f_{n-1} + f_{n-2}$ für $n \\geq 2$.\n",
    "\n",
    "**Hinweis:** Verwenden Sie ein 1D-Array."
   ]
  },
  {
   "cell_type": "code",
   "execution_count": 5,
   "metadata": {},
   "outputs": [
    {
     "name": "stdout",
     "output_type": "stream",
     "text": [
      " OK  got: 8 expected: 8\n",
      " OK  got: 13 expected: 13\n"
     ]
    }
   ],
   "source": [
    "def fibonacci(n):\n",
    "    if n == 0:\n",
    "        return 0\n",
    "    if n == 1:\n",
    "        return 1\n",
    "    elif n > 1:\n",
    "        return fibonacci(n-1) + fibonacci(n-2)\n",
    "    \n",
    "def test(got, expected):\n",
    "    if got == expected:\n",
    "        prefix = ' OK '\n",
    "    else:\n",
    "        prefix = '  X '\n",
    "    print('%s got: %s expected: %s' % (prefix, repr(got), repr(expected)))\n",
    "\n",
    "test(fibonacci(6), 8)\n",
    "test(fibonacci(7), 13)"
   ]
  },
  {
   "cell_type": "code",
   "execution_count": 6,
   "metadata": {},
   "outputs": [
    {
     "name": "stdout",
     "output_type": "stream",
     "text": [
      " OK  got: 8 expected: 8\n",
      " OK  got: 13 expected: 13\n"
     ]
    }
   ],
   "source": [
    "test(fibonacci(6), 8)\n",
    "test(fibonacci(7), 13)"
   ]
  },
  {
   "cell_type": "markdown",
   "metadata": {},
   "source": [
    "**Bewertungsvorschlag: 1 Punkt**"
   ]
  },
  {
   "cell_type": "markdown",
   "metadata": {},
   "source": [
    "## Aufgabe 4.2 (9 Punkte, 2 + 2 + 2 + 2 + 1)\n",
    "\n",
    "Das Manhattan-Tourist-Problem wurde auf Graphen eingeführt, die einem rechteckigen Gitter der Größe $n \\times m$ entsprechen."
   ]
  },
  {
   "cell_type": "markdown",
   "metadata": {},
   "source": [
    "(a) In Aufgabe 4.1 haben Sie dynamische Programmierung mit einem 1D-Array implementiert. Implementieren Sie nun ein Programm, welches das Manhattan-Tourist-Problem löst und auf dynamischer Programmierung basiert (also ein 2D-Array verwendet).<br>\n",
    "Die Eingabe ist ein Gittergraph in Form eines Dictionarys, welches ein Tupel von Knoten auf ein Gewicht abbildet, sowie die Größen $n$ und $m$ des Graphen (siehe nächste Zelle und die Testcases). Für diesen Graphen soll die Länge des längsten Weges (d. h. die Summe der Kantengewichte auf dem Weg) ausgegeben werden vom Startfeld (oben links) zum Endfeld (unten rechts)."
   ]
  },
  {
   "cell_type": "code",
   "execution_count": 13,
   "metadata": {},
   "outputs": [],
   "source": [
    "# einmal ausführen, um die Testgraphen g1 und g2 zu erzeugen\n",
    "from collections import defaultdict\n",
    "g1 = defaultdict(lambda: 1)\n",
    "g1[((0, 0), (0, 1))] = 0\n",
    "g1[((0, 2), (0, 3))] = -3\n",
    "g1[((0, 4), (1, 4))] = 9\n",
    "g1[((1, 1), (2, 1))] = 5\n",
    "g1[((1, 4), (2, 4))] = 5\n",
    "g1[((2, 1), (2, 2))] = 2\n",
    "g1[((2, 2), (2, 3))] = 4\n",
    "g1[((3, 1), (4, 1))] = 5\n",
    "g1[((4, 2), (4, 3))] = 3\n",
    "g2 = defaultdict(lambda: 1)\n",
    "g2[((0, 0), (0, 1))] = 3\n",
    "g2[((1, 1), (1, 2))] = 5\n",
    "g2[((1, 4), (1, 5))] = 3\n",
    "g2[((2, 5), (2, 6))] = 3\n",
    "g2[((2, 0), (3, 0))] = 2\n",
    "g2[((3, 3), (3, 4))] = 2\n",
    "g2[((3, 5), (4, 5))] = 7\n",
    "g2[((4, 5), (4, 6))] = 2\n",
    "g2[((4, 6), (4, 7))] = 4\n",
    "g2[((4, 7), (4, 8))] = 5\n",
    "g2[((5, 1), (5, 2))] = 3\n",
    "g2[((5, 5), (6, 5))] = 8\n",
    "g2[((6, 5), (6, 6))] = 2\n",
    "g2[((6, 2), (7, 2))] = 10\n",
    "g2[((6, 6), (7, 6))] = -2\n",
    "g2[((7, 7), (7, 8))] = 3"
   ]
  },
  {
   "cell_type": "code",
   "execution_count": 22,
   "metadata": {},
   "outputs": [],
   "source": [
    "def solve_mtp_dp(g, n, m):\n",
    "    dp = [[float('-inf')] * (m + 1) for _ in range(n + 1)]\n",
    "    dp[0][0] = 0  \n",
    "\n",
    "    for i in range(n + 1):\n",
    "        for j in range(m + 1):\n",
    "            if i > 0:\n",
    "                dp[i][j] = max(dp[i][j], dp[i-1][j] + g[((i-1, j), (i, j))])\n",
    "            if j > 0:\n",
    "                dp[i][j] = max(dp[i][j], dp[i][j-1] + g[((i, j-1), (i, j))])\n",
    "\n",
    "    return dp[n][m]"
   ]
  },
  {
   "cell_type": "code",
   "execution_count": 23,
   "metadata": {},
   "outputs": [
    {
     "name": "stdout",
     "output_type": "stream",
     "text": [
      " OK  got: 18 expected: 18\n",
      " OK  got: 40 expected: 40\n"
     ]
    }
   ],
   "source": [
    "test(solve_mtp_dp(g1, 4, 4), 18)\n",
    "test(solve_mtp_dp(g2, 8, 8), 40)"
   ]
  },
  {
   "cell_type": "markdown",
   "metadata": {},
   "source": [
    "(b) Wie viele verschiedene Wege von oben links nach unten rechts gibt es in einem solchen Graphen, wenn nur nach rechts oder nach unten gegangen werden darf? Geben Sie die Lösung als Formel in Abhängigkeit von $m$ und $n$ an und begründen Sie diese."
   ]
  },
  {
   "cell_type": "markdown",
   "metadata": {},
   "source": [
    "### Antwort\n",
    "\n",
    "Anzahl der Wege= $\\binom{m+n}{m} = \\frac{(m+n)!}{m! \\cdot n!}$\n",
    "\n",
    "\n",
    "Grund: Um von oben links nach unten rechts zu gelangen brauchen wir immer  m + n Schritte. m Schritte nach unten, n Schritte nach rechts. Welchen Pfad ich nun wähle, also wie viele Schritte m ich aus maximal m + n Schritten machen kann mit dem Binomialkoeffizienten dargestellt werden. Denn man wählt m aus m + n Schritten aus. Man kann auch n statt m wählen. Mit der Formel erhält man demnach die Anzahl der möglichen Pfade.\n"
   ]
  },
  {
   "cell_type": "markdown",
   "metadata": {},
   "source": [
    "(c) Implementieren Sie eine Funktion, die alle Wege aus Teil (b) ausgibt. Eingabe sind die Parameter $n$ und $m$, Ausgabe soll eine Liste von Wegen sein, wobei jeder Weg eine Liste von Koordinaten sein soll, die den Knoten entspricht. Die erste Koordinate ist immer der Startknoten $(0, 0)$ und die letzte ist immer der Zielknoten $(n, m)$. Die Reihenfolge, in der die Wege ausgegeben werden, ist beliebig."
   ]
  },
  {
   "cell_type": "code",
   "execution_count": 3,
   "metadata": {},
   "outputs": [
    {
     "name": "stdout",
     "output_type": "stream",
     "text": [
      " OK  got: [[(0, 0), (0, 1), (1, 1)], [(0, 0), (1, 0), (1, 1)]] expected: [[(0, 0), (0, 1), (1, 1)], [(0, 0), (1, 0), (1, 1)]]\n",
      " OK  got: [[(0, 0), (0, 1), (0, 2), (1, 2)], [(0, 0), (0, 1), (1, 1), (1, 2)], [(0, 0), (1, 0), (1, 1), (1, 2)]] expected: [[(0, 0), (0, 1), (0, 2), (1, 2)], [(0, 0), (0, 1), (1, 1), (1, 2)], [(0, 0), (1, 0), (1, 1), (1, 2)]]\n",
      " OK  got: [[(0, 0), (0, 1), (0, 2), (0, 3)]] expected: [[(0, 0), (0, 1), (0, 2), (0, 3)]]\n",
      " OK  got: [[(0, 0)]] expected: [[(0, 0)]]\n",
      " OK  got: 84 expected: 84\n",
      " OK  got: 84 expected: 84\n"
     ]
    }
   ],
   "source": [
    "# simple test() function to check function returns vs. what the function was supposed to return.\n",
    "def test(got, expected):\n",
    "    if got == expected:\n",
    "        prefix = ' OK '\n",
    "    else:\n",
    "        prefix = '  X '\n",
    "    print('%s got: %s expected: %s' % (prefix, repr(got), repr(expected)))\n",
    "\n",
    "def enumerate_paths(n, m):\n",
    "    def back(path, x, y):\n",
    "        if x == n and y == m:\n",
    "            paths.append(path[:])\n",
    "            return\n",
    "        \n",
    "        if y < m:\n",
    "            path.append((x, y + 1))\n",
    "            back(path, x, y + 1)\n",
    "            path.pop()\n",
    "        \n",
    "        if x < n:\n",
    "            path.append((x + 1, y))\n",
    "            back(path, x + 1, y)\n",
    "            path.pop()\n",
    "    \n",
    "    paths = []\n",
    "    initial_path = [(0, 0)]\n",
    "    back(initial_path, 0, 0)\n",
    "    return paths\n",
    "\n",
    "test(enumerate_paths(1, 1), [[(0, 0), (0, 1), (1, 1)], [(0, 0), (1, 0), (1, 1)]])\n",
    "test(enumerate_paths(1, 2), [[(0, 0), (0, 1), (0, 2), (1, 2)], [(0, 0), (0, 1), (1, 1), (1, 2)], [(0, 0), (1, 0), (1, 1), (1, 2)]])\n",
    "test(enumerate_paths(0, 3), [[(0, 0), (0, 1), (0, 2), (0, 3)]])\n",
    "test(enumerate_paths(0, 0), [[(0, 0)]])\n",
    "test(len(enumerate_paths(6, 3)), 84)\n",
    "test(len(enumerate_paths(3, 6)), 84)"
   ]
  },
  {
   "cell_type": "markdown",
   "metadata": {},
   "source": [
    "(d) Implementieren Sie die unten stehende Funktion, die das Manhattan-Tourist-Problem löst.<br>\n",
    "Eingabe und Ausgabe sind wie in (a). Für den Eingabegraphen sollen alle möglichen Wege generiert und die Länge des längsten Weges (d. h. die Summe der Kantengewichte auf dem Weg) ausgegeben werden."
   ]
  },
  {
   "cell_type": "code",
   "execution_count": 9,
   "metadata": {},
   "outputs": [
    {
     "name": "stdout",
     "output_type": "stream",
     "text": [
      " OK  got: 18 expected: 18\n",
      " OK  got: 40 expected: 40\n"
     ]
    }
   ],
   "source": [
    "from collections import defaultdict\n",
    "g1 = defaultdict(lambda: 1)\n",
    "g1[((0, 0), (0, 1))] = 0\n",
    "g1[((0, 2), (0, 3))] = -3\n",
    "g1[((0, 4), (1, 4))] = 9\n",
    "g1[((1, 1), (2, 1))] = 5\n",
    "g1[((1, 4), (2, 4))] = 5\n",
    "g1[((2, 1), (2, 2))] = 2\n",
    "g1[((2, 2), (2, 3))] = 4\n",
    "g1[((3, 1), (4, 1))] = 5\n",
    "g1[((4, 2), (4, 3))] = 3\n",
    "g2 = defaultdict(lambda: 1)\n",
    "g2[((0, 0), (0, 1))] = 3\n",
    "g2[((1, 1), (1, 2))] = 5\n",
    "g2[((1, 4), (1, 5))] = 3\n",
    "g2[((2, 5), (2, 6))] = 3\n",
    "g2[((2, 0), (3, 0))] = 2\n",
    "g2[((3, 3), (3, 4))] = 2\n",
    "g2[((3, 5), (4, 5))] = 7\n",
    "g2[((4, 5), (4, 6))] = 2\n",
    "g2[((4, 6), (4, 7))] = 4\n",
    "g2[((4, 7), (4, 8))] = 5\n",
    "g2[((5, 1), (5, 2))] = 3\n",
    "g2[((5, 5), (6, 5))] = 8\n",
    "g2[((6, 5), (6, 6))] = 2\n",
    "g2[((6, 2), (7, 2))] = 10\n",
    "g2[((6, 6), (7, 6))] = -2\n",
    "g2[((7, 7), (7, 8))] = 3\n",
    "\n",
    "def solve_mtp(g, n, m):\n",
    "    paths = enumerate_paths(n, m)\n",
    "    max_length = float('-inf')\n",
    "    \n",
    "    for path in paths:\n",
    "        length = 0\n",
    "        for i in range(len(path) - 1):\n",
    "            length += g[(path[i], path[i + 1])]\n",
    "            max_length = max(max_length, length)\n",
    "    \n",
    "    return max_length\n",
    "\n",
    "def test(got, expected):\n",
    "    if got == expected:\n",
    "        prefix = ' OK '\n",
    "    else:\n",
    "        prefix = '  X '\n",
    "    print('%s got: %s expected: %s' % (prefix, repr(got), repr(expected)))\n",
    "\n",
    "test(solve_mtp(g1, 4, 4), 18)\n",
    "test(solve_mtp(g2, 8, 8), 40)"
   ]
  },
  {
   "cell_type": "markdown",
   "metadata": {},
   "source": [
    "(e) Vergleichen Sie die Laufzeit der Programme für (a) und (d) für die beiden Testgraphen. Gibt es einen Unterschied? Wenn ja, wieso?"
   ]
  },
  {
   "cell_type": "markdown",
   "metadata": {},
   "source": [
    "## Aufgabe 4.3 (2 Punkte)\n",
    "\n",
    "Gibt es eine Performance-Garantie für den in der Vorlesung vorgestellten Greedy-Algorithmus für das Manhattan-Tourist-Problem? Begründen Sie."
   ]
  },
  {
   "cell_type": "markdown",
   "metadata": {},
   "source": [
    "### Antwort\n",
    "\n",
    "\n",
    "\n",
    "Der Greedy-Algorithmus für das Manhattan-Tourist-Problem hat keine Performance-Garantie, da er in bestimmten Fällen keine optimale Lösung garantiert, im Gegensatz zu dynamischer Programmierung, die stets die optimale Lösung findet.\n",
    "\n",
    "Fälle:\n",
    "1. Nicht-monotone Gewichtungen: Wenn die Gewichtungen der Kanten nicht gleichmäßig steigen.\n",
    "2. Lokale Maxima: Wenn eine lokale Entscheidung zu einem schlechteren globalen Pfad führt.\n",
    "3. Uneinheitliche Verteilung: Wenn die höchsten Kanten-Gewichtungen verstreut liegen und nicht entlang eines direkten Pfades."
   ]
  },
  {
   "cell_type": "markdown",
   "metadata": {},
   "source": [
    "## Aufgabe 4.4 (8 Punkte, 3 + 5)\n",
    "\n",
    "Betrachten Sie die Rekurrenz des Münzkettenspiels aus Foliensatz 4 (Folie 27/39), die berechnet, wie viel der Startspieler unabhängig von den Zügen des Gegenspielers mindestens gewinnt:\n",
    "\n",
    "$G(M, i, j) = \\max\n",
    "\\begin{cases}\n",
    "    0&, i > j, \\\\\n",
    "    M_i + \\min\\{G(M, i + 1, j - 1), G(M, i + 2, j)\\}&, i \\leq j, \\\\\n",
    "    M_j + \\min\\{G(M, i + 1, j - 1), G(M, i, j - 2)\\}&, i \\leq j.\n",
    "\\end{cases}$"
   ]
  },
  {
   "cell_type": "markdown",
   "metadata": {},
   "source": [
    "(a) Das Münzkettenspiel soll auf drei Spieler erweitert werden. Dadurch liegen zwischen den eigenen Zügen nicht nur ein fremder Zug, sondern zwei. Erweitern Sie die Rekurrenz der 2-Spieler-Variante, sodass weiterhin für eine beliebige Spielstellung $(M, i, j)$ eine untere Schranke für den eigenen Gesamtmünzwert berechnet wird."
   ]
  },
  {
   "cell_type": "markdown",
   "metadata": {},
   "source": [
    "(b) Für die 2-Spieler-Variante soll nun eine dritte Zugmöglichkeit eingeführt werden, bei der ein Spieler sowohl am Anfang als auch am Ende der Kette jeweils eine Münze entfernt. Anders als bei den anderen beiden Zügen werden diese Münzen aus dem Spiel entfernt, d. h., kein Spieler bekommt sie gutgeschrieben. Diese Zugmöglichkeit ist nur erlaubt, wenn die Kette noch aus mindestens zwei Münzen besteht. Erweitern Sie die Rekurrenz, sodass die zusätzlichen Zugmöglichkeiten berücksichtigt werden."
   ]
  },
  {
   "cell_type": "markdown",
   "metadata": {},
   "source": [
    "### Antwort\n",
    "\n",
    "a)\n",
    "$G(M, i, j) = \\max\n",
    "\\begin{cases}\n",
    "    0&, i > j, \\\\\n",
    "    M_i + \\min\\{G(M, i + 1, j - 1), G(M, i + 2, j), G(M,i+1,j-2), G(M,i+2,j-1), G(M,i+3,j), G(M,i+2,j-1) G\\}&, i \\leq j, \\\\\n",
    "    M_j + \\min\\{G(M, i + 1, j - 1), G(M, i, j - 2, G(M,i+1,j-2), G(M,i+2,j-1), G(M,i+3,j), G(M,i+2,j-1))\\}&, i \\leq j. \\\\\n",
    "\\end{cases}$\n",
    "\n",
    "b)\n",
    "\n",
    "$G(M, i, j) = \\max\n",
    "\\begin{cases}\n",
    "    0&, i > j, \\\\\n",
    "    M_i + \\min\\{G(M, i + 1, j - 1), G(M, i + 2, j)\\}&, i \\leq j, \\\\\n",
    "    M_j + \\min\\{G(M, i + 1, j - 1), G(M, i, j - 2)\\}&, i \\leq j, \\\\\n",
    "    0 + \\min\\{G(M, i + 1, j - 1), G(M, i + 2, j)\\}&, i \\leq j.\n",
    "\\end{cases}$"
   ]
  }
 ],
 "metadata": {
  "kernelspec": {
   "display_name": "Python 3 (ipykernel)",
   "language": "python",
   "name": "python3"
  },
  "language_info": {
   "codemirror_mode": {
    "name": "ipython",
    "version": 3
   },
   "file_extension": ".py",
   "mimetype": "text/x-python",
   "name": "python",
   "nbconvert_exporter": "python",
   "pygments_lexer": "ipython3",
   "version": "3.9.6"
  }
 },
 "nbformat": 4,
 "nbformat_minor": 4
}
